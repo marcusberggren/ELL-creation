{
 "cells": [
  {
   "cell_type": "code",
   "execution_count": 3,
   "metadata": {},
   "outputs": [],
   "source": [
    "import pandas as pd\n",
    "import xlwings as xw\n",
    "import functions as fn\n",
    "import time\n",
    "import pydantic\n",
    "from dataclasses import dataclass"
   ]
  },
  {
   "cell_type": "code",
   "execution_count": 14,
   "metadata": {},
   "outputs": [],
   "source": [
    "class PayrollSystem:\n",
    "    def calculate_payroll(self, employees):\n",
    "        print('Calculating Payroll')\n",
    "        print('===================')\n",
    "        for employee in employees:\n",
    "            print(f'Payroll for: {employee.id} - {employee.name}')\n",
    "            print(f'- Check amount: {employee.calculate_payroll()}')\n",
    "            print('')\n",
    "\n",
    "class Employee:\n",
    "    def __init__(self, id, name):\n",
    "        self.id = id\n",
    "        self.name = name\n",
    "\n",
    "class SalaryEmployee(Employee):\n",
    "    def __init__(self, id, name, weekly_salary):\n",
    "        super().__init__(id, name)\n",
    "        self.weekly_salary = weekly_salary\n",
    "\n",
    "    def calculate_payroll(self):\n",
    "        return self.weekly_salary\n",
    "\n",
    "class HourlyEmployee(Employee):\n",
    "    def __init__(self, name, hours_worked, hour_rate):\n",
    "        super().__init__(id, name)\n",
    "        self.hours_worked = hours_worked\n",
    "        self.hour_rate = hour_rate\n",
    "\n",
    "    def calculate_payroll(self):\n",
    "        return self.hours_worked * self.hour_rate\n",
    "\n",
    "class CommissionEmployee(SalaryEmployee):\n",
    "    def __init__(self, id, name, weekly_salary, commission):\n",
    "        super().__init__(id, name, weekly_salary)\n",
    "        self.commission = commission\n",
    "    \n",
    "    def calculate_payroll(self):\n",
    "        fixed = super().calculate_payroll()\n",
    "        return fixed + self.commission\n",
    "\n",
    "\n"
   ]
  },
  {
   "cell_type": "code",
   "execution_count": null,
   "metadata": {},
   "outputs": [],
   "source": []
  },
  {
   "cell_type": "code",
   "execution_count": 2,
   "metadata": {},
   "outputs": [
    {
     "name": "stdout",
     "output_type": "stream",
     "text": [
      "Chris Stuckmann's categories are: ['movie-reviews']\n",
      "Double Toasted's categories are: ['movie-reviews']\n",
      "The Fitness Marshall's categories are: ['fitness']\n"
     ]
    }
   ],
   "source": [
    "from dataclasses import dataclass\n",
    "\n",
    "@dataclass\n",
    "class Youtuber:\n",
    "    \"\"\"Class for defining youtubers.\"\"\"\n",
    "    name: str\n",
    "    categories: list[str]\n",
    "\n",
    "youtubers = []\n",
    "youtubers.append(Youtuber(\"Chris Stuckmann\", [\"movie-reviews\"]))\n",
    "youtubers.append(Youtuber(\"Double Toasted\", [\"movie-reviews\"]))\n",
    "youtubers.append(Youtuber(\"The Fitness Marshall\", [\"fitness\"]))\n",
    "\n",
    "for youtuber in youtubers:\n",
    "    print(f\"{youtuber.name}'s categories are: {youtuber.categories}\")"
   ]
  },
  {
   "cell_type": "code",
   "execution_count": null,
   "metadata": {},
   "outputs": [],
   "source": []
  }
 ],
 "metadata": {
  "interpreter": {
   "hash": "707741433e3a952f2ec923e3e61c8fa5a03791e607845518e290f702a33ad7da"
  },
  "kernelspec": {
   "display_name": "Python 3.10.0 ('py310')",
   "language": "python",
   "name": "python3"
  },
  "language_info": {
   "codemirror_mode": {
    "name": "ipython",
    "version": 3
   },
   "file_extension": ".py",
   "mimetype": "text/x-python",
   "name": "python",
   "nbconvert_exporter": "python",
   "pygments_lexer": "ipython3",
   "version": "3.10.0"
  },
  "orig_nbformat": 4
 },
 "nbformat": 4,
 "nbformat_minor": 2
}
