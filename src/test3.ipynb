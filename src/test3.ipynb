{
 "cells": [
  {
   "cell_type": "code",
   "execution_count": 48,
   "metadata": {},
   "outputs": [],
   "source": [
    "import pandas as pd\n",
    "import xlwings as xw\n",
    "import functions as fn\n",
    "import time"
   ]
  },
  {
   "cell_type": "code",
   "execution_count": 49,
   "metadata": {},
   "outputs": [],
   "source": [
    "def update_data_sheet(df: pd.DataFrame, data_sheet: xw.sheets):\n",
    "    df = fn.regex_no_extra_whitespace(df)\n",
    "    data_df = pd.DataFrame()\n",
    "\n",
    "\n",
    "    df.loc[:, 'TARE'] = fn.get_tare(df)\n",
    "    data_df.loc[:, 'mlo_check'] = fn.MLO_check(df)\n",
    "    data_df.loc[:, 'terminal_check'] = fn.terminal_check(df)\n",
    "    data_df.loc[:, 'container_check'] = df['CONTAINER'].apply(fn.container_check, 1)\n",
    "    data_df.loc[:, 'cargo_type_check'] = fn.cargo_type_check(df)\n",
    "    data_df.loc[:, 'load_status_check'] = fn.load_status_check(df)\n",
    "    data_df.loc[:, 'oog_check'] = fn.oog_check(df)\n",
    "    data_df.loc[:, 'dg_check'] = fn.dg_check(df)\n",
    "    data_df.loc[:, 'reefer_check'] = fn.reefer_check(df)\n",
    "    data_df.loc[:, 'po_number_check'] = fn.po_number_check(df)\n",
    "    data_df.loc[:, 'customs_check'] = fn.customs_check(df)\n",
    "    data_df.loc[:, 'vessel_check'] = fn.vessel_check(df)\n",
    "    data_df.loc[:, 'fpod_check'] = fn.fpod_check(df)\n",
    "    data_df.loc[:, 'get_max_weight'] = fn.get_max_weight(df)/1000\n",
    "    data_df.loc[:, 'get_teus'] = fn.get_TEUs(df)\n",
    "    data_df.loc[:, 'mlo'] = df['MLO']\n",
    "    data_df.loc[:, 'tol'] = df['TOL']\n",
    "    data_df.loc[:, \"20feet\"] = 0\n",
    "    data_df.loc[:, \"40feet\"] = 0\n",
    "    data_df.loc[data_df['get_teus'] == 1, \"20feet\"] = 1\n",
    "    data_df.loc[data_df['get_teus'] == 2, \"40feet\"] = 1\n",
    "    \n",
    "\n",
    "    #data_sheet.range('A4').options(pd.DataFrame, index=False, header=True).value = data_df.copy()"
   ]
  },
  {
   "cell_type": "code",
   "execution_count": 60,
   "metadata": {},
   "outputs": [],
   "source": [
    "def update_info_sheet(df: pd.DataFrame, info_sheet: xw.sheets):\n",
    "\n",
    "    df = fn.regex_no_extra_whitespace(df)\n",
    "\n",
    "    mlo = ['tpl_ever_partner_code', 'EVER MLO', 'MLO']\n",
    "    terminal = ['tpl_terminal', 'TERMINAL OUTPUT', 'TOL']\n",
    "    cargo_type = ['tpl_cargo_type', 'TYPE OUTPUT', 'ISO TYPE']\n",
    "    vessel = ['tpl_vessels', 'HL VESSEL OUTPUT', 'OCEAN VESSEL']\n",
    "    fpod = ['tpl_ports', 'UNLOCODE', 'FINAL POD']\n",
    "\n",
    "    df.loc[:, 'TOL'] = fn.get_template_type(df, terminal)\n",
    "    df.loc[:, 'ISO TYPE'] = fn.get_template_type_no_regex(df, cargo_type)\n",
    "    df.loc[:, 'OCEAN VESSEL'] = fn.get_template_type(df, vessel)\n",
    "    df.loc[:, 'FINAL POD'] = fn.get_template_type(df, fpod)\n",
    "    df.loc[:, 'MLO'] = fn.get_template_type(df, mlo)\n",
    "\n",
    "    info_sheet.range('A5').options(pd.DataFrame, index=False, header=False).value = df.copy()"
   ]
  },
  {
   "cell_type": "code",
   "execution_count": 61,
   "metadata": {},
   "outputs": [],
   "source": [
    "def update_info_sheet_downscaled(df: pd.DataFrame, info_sheet: xw.sheets):\n",
    "\n",
    "    #df = fn.regex_no_extra_whitespace(df)\n",
    "\n",
    "    mlo = ['tpl_ever_partner_code', 'EVER MLO', 'MLO']\n",
    "    terminal = ['tpl_terminal', 'TERMINAL OUTPUT', 'TOL']\n",
    "    cargo_type = ['tpl_cargo_type', 'TYPE OUTPUT', 'ISO TYPE']\n",
    "    vessel = ['tpl_vessels', 'HL VESSEL OUTPUT', 'OCEAN VESSEL']\n",
    "    fpod = ['tpl_ports', 'UNLOCODE', 'FINAL POD']\n",
    "\n",
    "    df.loc[:, 'MLO'] = fn.get_template_type(df, mlo)\n",
    "    df.loc[:, 'TOL'] = fn.get_template_type(df, terminal)\n",
    "    df.loc[:, 'ISO TYPE'] = fn.get_template_type_no_regex(df, cargo_type)\n",
    "    df.loc[:, 'OCEAN VESSEL'] = fn.get_template_type(df, vessel)\n",
    "    df.loc[:, 'FINAL POD'] = fn.get_template_type(df, fpod)\n",
    "    \n",
    "    info_sheet.range('B5').options(pd.Series, index=False, header=False).value = df['MLO'].copy()\n",
    "    info_sheet.range('D5').options(pd.Series, index=False, header=False).value = df['TOL'].copy()\n",
    "    info_sheet.range('F5').options(pd.Series, index=False, header=False).value = df['ISO TYPE'].copy()\n",
    "    info_sheet.range('V5').options(pd.Series, index=False, header=False).value = df['OCEAN VESSEL'].copy()\n",
    "    info_sheet.range('Y5').options(pd.Series, index=False, header=False).value = df['FINAL POD'].copy()"
   ]
  },
  {
   "cell_type": "code",
   "execution_count": 62,
   "metadata": {},
   "outputs": [
    {
     "name": "stdout",
     "output_type": "stream",
     "text": [
      "0.789\n"
     ]
    }
   ],
   "source": [
    "\n",
    "\n",
    "\n",
    "def get_data():\n",
    "    \n",
    "    wb = xw.Book(r\"C:\\Users\\SWV224\\BOLLORE\\XPF - Documents\\MAINTENANCE\\Test files\\0113_Bokningsblad_data.xlsb\")\n",
    "    get_data.info_sheet = wb.sheets['INFO']\n",
    "    get_data.data_sheet = wb.sheets['DATA']\n",
    "\n",
    "    data_table = get_data.info_sheet.range('A4').expand()\n",
    "    df = get_data.info_sheet.range(data_table).options(pd.DataFrame, index=False, header=True).value\n",
    "    df = pd.DataFrame(df).copy()\n",
    "    \n",
    "\n",
    "    df['CONTAINER'] = df['CONTAINER'].apply(str).copy()     #formats column to string so fn.container_check works\n",
    "    df.loc[df['CONTAINER'] == 'None', 'CONTAINER'] = ''     #since column is string need to change 'None' to ''\n",
    "    return df\n",
    "\n",
    "\n",
    "\n",
    "get_data()\n",
    "\n",
    "tic = time.perf_counter()\n",
    "update_info_sheet(get_data(), get_data.info_sheet)\n",
    "toc = time.perf_counter()\n",
    "\n",
    "update_data_sheet(get_data(), get_data.data_sheet)\n",
    "\n",
    "\n",
    "print(f'{toc-tic:0.3f}')\n"
   ]
  },
  {
   "cell_type": "code",
   "execution_count": null,
   "metadata": {},
   "outputs": [],
   "source": []
  }
 ],
 "metadata": {
  "interpreter": {
   "hash": "707741433e3a952f2ec923e3e61c8fa5a03791e607845518e290f702a33ad7da"
  },
  "kernelspec": {
   "display_name": "Python 3.10.0 ('py310')",
   "language": "python",
   "name": "python3"
  },
  "language_info": {
   "codemirror_mode": {
    "name": "ipython",
    "version": 3
   },
   "file_extension": ".py",
   "mimetype": "text/x-python",
   "name": "python",
   "nbconvert_exporter": "python",
   "pygments_lexer": "ipython3",
   "version": "3.10.0"
  },
  "orig_nbformat": 4
 },
 "nbformat": 4,
 "nbformat_minor": 2
}
