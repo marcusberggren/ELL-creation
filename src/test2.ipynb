{
 "cells": [
  {
   "cell_type": "code",
   "execution_count": 1,
   "metadata": {},
   "outputs": [],
   "source": [
    "import pandas as pd\n",
    "import functions as fn\n",
    "import xlwings as xw"
   ]
  },
  {
   "cell_type": "code",
   "execution_count": 121,
   "metadata": {},
   "outputs": [],
   "source": [
    "wb = xw.Book(r'C:\\Users\\SWV224\\BOLLORE\\XPF - Documents\\SERVICES\\GSX\\2211B ANNAG 22007 SEAHU 17.03.2022\\0111_Bokningsblad_ANNAG 22007 SEAHU 17.03.2022.xlsb')\n",
    "sheet = wb.sheets('INFO')\n",
    "data_table = sheet.range('A4').expand()\n",
    "df = sheet.range(data_table).options(pd.DataFrame, index=False, header=True).value\n",
    "df = fn.regex_no_extra_whitespace(df).copy()"
   ]
  },
  {
   "cell_type": "code",
   "execution_count": 122,
   "metadata": {},
   "outputs": [
    {
     "data": {
      "text/html": [
       "<div>\n",
       "<style scoped>\n",
       "    .dataframe tbody tr th:only-of-type {\n",
       "        vertical-align: middle;\n",
       "    }\n",
       "\n",
       "    .dataframe tbody tr th {\n",
       "        vertical-align: top;\n",
       "    }\n",
       "\n",
       "    .dataframe thead th {\n",
       "        text-align: right;\n",
       "    }\n",
       "</style>\n",
       "<table border=\"1\" class=\"dataframe\">\n",
       "  <thead>\n",
       "    <tr style=\"text-align: right;\">\n",
       "      <th></th>\n",
       "      <th>BOOKING NUMBER</th>\n",
       "      <th>MLO</th>\n",
       "      <th>POL</th>\n",
       "      <th>TOL</th>\n",
       "      <th>CONTAINER</th>\n",
       "      <th>ISO TYPE</th>\n",
       "      <th>NET WEIGHT</th>\n",
       "      <th>POD STATUS</th>\n",
       "      <th>LOAD STATUS</th>\n",
       "      <th>VGM</th>\n",
       "      <th>...</th>\n",
       "      <th>MRN</th>\n",
       "      <th>TEMP</th>\n",
       "      <th>PO NUMBER</th>\n",
       "      <th>CUSTOMS STATUS</th>\n",
       "      <th>PACKAGES</th>\n",
       "      <th>GOODS DESCRIPTION</th>\n",
       "      <th>OCEAN VESSEL</th>\n",
       "      <th>VOYAGE</th>\n",
       "      <th>ETA</th>\n",
       "      <th>FINAL POD</th>\n",
       "    </tr>\n",
       "  </thead>\n",
       "  <tbody>\n",
       "    <tr>\n",
       "      <th>0</th>\n",
       "      <td>16681775.0</td>\n",
       "      <td>HL</td>\n",
       "      <td>DEBRV</td>\n",
       "      <td>DENST</td>\n",
       "      <td>HLXU1352287</td>\n",
       "      <td>2270.0</td>\n",
       "      <td>17200.484</td>\n",
       "      <td>T</td>\n",
       "      <td>LA</td>\n",
       "      <td>19571.0</td>\n",
       "      <td>...</td>\n",
       "      <td>22SEE304YI4UEJ8OC0</td>\n",
       "      <td>None</td>\n",
       "      <td>903532598.0</td>\n",
       "      <td>T1</td>\n",
       "      <td>1022.0</td>\n",
       "      <td>VODKA</td>\n",
       "      <td>CALLAO EXPRESS</td>\n",
       "      <td>2212S</td>\n",
       "      <td>27.03.2022</td>\n",
       "      <td>DOCAU</td>\n",
       "    </tr>\n",
       "    <tr>\n",
       "      <th>1</th>\n",
       "      <td>22367096.0</td>\n",
       "      <td>HL</td>\n",
       "      <td>DEBRV</td>\n",
       "      <td>DENST</td>\n",
       "      <td>HAMU1064998</td>\n",
       "      <td>2200.0</td>\n",
       "      <td>17670.000</td>\n",
       "      <td>T</td>\n",
       "      <td>LA</td>\n",
       "      <td>19970.0</td>\n",
       "      <td>...</td>\n",
       "      <td>22SEE3EWF54PTXEN76</td>\n",
       "      <td>None</td>\n",
       "      <td>903532598.0</td>\n",
       "      <td>T1</td>\n",
       "      <td>927.0</td>\n",
       "      <td>VODKA</td>\n",
       "      <td>TSINGTAO EXPRESS</td>\n",
       "      <td>2208E</td>\n",
       "      <td>23.03.2022</td>\n",
       "      <td>AEJEA</td>\n",
       "    </tr>\n",
       "    <tr>\n",
       "      <th>2</th>\n",
       "      <td>22367096.0</td>\n",
       "      <td>HL</td>\n",
       "      <td>DEBRV</td>\n",
       "      <td>DENST</td>\n",
       "      <td>HLBU2745255</td>\n",
       "      <td>D20</td>\n",
       "      <td>17876.000</td>\n",
       "      <td>T</td>\n",
       "      <td>LA</td>\n",
       "      <td>20126.0</td>\n",
       "      <td>...</td>\n",
       "      <td>22SEE3GUCG3Q0H4K39</td>\n",
       "      <td>None</td>\n",
       "      <td>903532598.0</td>\n",
       "      <td>T1</td>\n",
       "      <td>1136.0</td>\n",
       "      <td>VODKA</td>\n",
       "      <td>TSINGTAO EXPRESS</td>\n",
       "      <td>2208E</td>\n",
       "      <td>23.03.2022</td>\n",
       "      <td>AEJEA</td>\n",
       "    </tr>\n",
       "    <tr>\n",
       "      <th>3</th>\n",
       "      <td>22367096.0</td>\n",
       "      <td>HL</td>\n",
       "      <td>DEBRV</td>\n",
       "      <td>DENST</td>\n",
       "      <td>HLXU3538440</td>\n",
       "      <td>22G1</td>\n",
       "      <td>19248.000</td>\n",
       "      <td>T</td>\n",
       "      <td>LA</td>\n",
       "      <td>21538.0</td>\n",
       "      <td>...</td>\n",
       "      <td>22SEE3HEV03VWKYA84</td>\n",
       "      <td>None</td>\n",
       "      <td>903532598.0</td>\n",
       "      <td>T1</td>\n",
       "      <td>1136.0</td>\n",
       "      <td>VODKA</td>\n",
       "      <td>TSINGTAO EXPRESS</td>\n",
       "      <td>2208E</td>\n",
       "      <td>23.03.2022</td>\n",
       "      <td>AEJEA</td>\n",
       "    </tr>\n",
       "    <tr>\n",
       "      <th>4</th>\n",
       "      <td>22367096.0</td>\n",
       "      <td>HL</td>\n",
       "      <td>DEBRV</td>\n",
       "      <td>DENST</td>\n",
       "      <td>TLLU2556839</td>\n",
       "      <td>22G1</td>\n",
       "      <td>16029.000</td>\n",
       "      <td>T</td>\n",
       "      <td>LA</td>\n",
       "      <td>18129.0</td>\n",
       "      <td>...</td>\n",
       "      <td>22SEE3HFET2C5MERK0</td>\n",
       "      <td>None</td>\n",
       "      <td>903532598.0</td>\n",
       "      <td>T1</td>\n",
       "      <td>860.0</td>\n",
       "      <td>VODKA</td>\n",
       "      <td>TSINGTAO EXPRESS</td>\n",
       "      <td>2208E</td>\n",
       "      <td>23.03.2022</td>\n",
       "      <td>AEJEA</td>\n",
       "    </tr>\n",
       "  </tbody>\n",
       "</table>\n",
       "<p>5 rows × 25 columns</p>\n",
       "</div>"
      ],
      "text/plain": [
       "  BOOKING NUMBER MLO    POL    TOL    CONTAINER ISO TYPE  NET WEIGHT  \\\n",
       "0     16681775.0  HL  DEBRV  DENST  HLXU1352287   2270.0   17200.484   \n",
       "1     22367096.0  HL  DEBRV  DENST  HAMU1064998   2200.0   17670.000   \n",
       "2     22367096.0  HL  DEBRV  DENST  HLBU2745255      D20   17876.000   \n",
       "3     22367096.0  HL  DEBRV  DENST  HLXU3538440     22G1   19248.000   \n",
       "4     22367096.0  HL  DEBRV  DENST  TLLU2556839     22G1   16029.000   \n",
       "\n",
       "  POD STATUS LOAD STATUS      VGM  ...                 MRN  TEMP    PO NUMBER  \\\n",
       "0          T          LA  19571.0  ...  22SEE304YI4UEJ8OC0  None  903532598.0   \n",
       "1          T          LA  19970.0  ...  22SEE3EWF54PTXEN76  None  903532598.0   \n",
       "2          T          LA  20126.0  ...  22SEE3GUCG3Q0H4K39  None  903532598.0   \n",
       "3          T          LA  21538.0  ...  22SEE3HEV03VWKYA84  None  903532598.0   \n",
       "4          T          LA  18129.0  ...  22SEE3HFET2C5MERK0  None  903532598.0   \n",
       "\n",
       "  CUSTOMS STATUS PACKAGES GOODS DESCRIPTION      OCEAN VESSEL VOYAGE  \\\n",
       "0             T1   1022.0             VODKA    CALLAO EXPRESS  2212S   \n",
       "1             T1    927.0             VODKA  TSINGTAO EXPRESS  2208E   \n",
       "2             T1   1136.0             VODKA  TSINGTAO EXPRESS  2208E   \n",
       "3             T1   1136.0             VODKA  TSINGTAO EXPRESS  2208E   \n",
       "4             T1    860.0             VODKA  TSINGTAO EXPRESS  2208E   \n",
       "\n",
       "          ETA  FINAL POD  \n",
       "0  27.03.2022      DOCAU  \n",
       "1  23.03.2022      AEJEA  \n",
       "2  23.03.2022      AEJEA  \n",
       "3  23.03.2022      AEJEA  \n",
       "4  23.03.2022      AEJEA  \n",
       "\n",
       "[5 rows x 25 columns]"
      ]
     },
     "execution_count": 122,
     "metadata": {},
     "output_type": "execute_result"
    }
   ],
   "source": [
    "df.head()"
   ]
  },
  {
   "cell_type": "code",
   "execution_count": 123,
   "metadata": {},
   "outputs": [],
   "source": [
    "file_path = r'C:\\Users\\SWV224\\BOLLORE\\XPF - Documents\\MAINTENANCE\\templates\\stored-data-template-cargo-type.csv'\n",
    "df_iso_type = pd.read_csv(file_path, sep=';', index_col=0, skipinitialspace=True)\n",
    "\n",
    "new_dict = df_iso_type.to_dict()['TYPE OUTPUT']\n"
   ]
  },
  {
   "cell_type": "code",
   "execution_count": 124,
   "metadata": {},
   "outputs": [],
   "source": [
    "df2 = df['ISO TYPE']"
   ]
  },
  {
   "cell_type": "code",
   "execution_count": 125,
   "metadata": {},
   "outputs": [
    {
     "data": {
      "text/plain": [
       "0     2270.0\n",
       "1     2200.0\n",
       "2        D20\n",
       "3       22G1\n",
       "4       22G1\n",
       "       ...  \n",
       "88      22G1\n",
       "89      22G1\n",
       "90      22G1\n",
       "91      22G1\n",
       "92      22G1\n",
       "Name: ISO TYPE, Length: 93, dtype: object"
      ]
     },
     "execution_count": 125,
     "metadata": {},
     "output_type": "execute_result"
    }
   ],
   "source": [
    "df['ISO TYPE']"
   ]
  },
  {
   "cell_type": "markdown",
   "metadata": {},
   "source": []
  },
  {
   "cell_type": "code",
   "execution_count": 47,
   "metadata": {},
   "outputs": [
    {
     "data": {
      "text/plain": [
       "0     NaN\n",
       "1     NaN\n",
       "2     NaN\n",
       "3     NaN\n",
       "4     NaN\n",
       "     ... \n",
       "88    NaN\n",
       "89    NaN\n",
       "90    NaN\n",
       "91    NaN\n",
       "92    NaN\n",
       "Name: ISO TYPE, Length: 93, dtype: object"
      ]
     },
     "execution_count": 47,
     "metadata": {},
     "output_type": "execute_result"
    }
   ],
   "source": [
    "df['ISO TYPE'].map(new_dict)"
   ]
  },
  {
   "cell_type": "code",
   "execution_count": 126,
   "metadata": {},
   "outputs": [
    {
     "data": {
      "text/plain": [
       "0     2270.0\n",
       "1     2200.0\n",
       "2        D20\n",
       "3       22G1\n",
       "4       22G1\n",
       "       ...  \n",
       "88      22G1\n",
       "89      22G1\n",
       "90      22G1\n",
       "91      22G1\n",
       "92      22G1\n",
       "Name: ISO TYPE, Length: 93, dtype: object"
      ]
     },
     "execution_count": 126,
     "metadata": {},
     "output_type": "execute_result"
    }
   ],
   "source": [
    "df2"
   ]
  },
  {
   "cell_type": "code",
   "execution_count": 127,
   "metadata": {},
   "outputs": [],
   "source": [
    "df3 = df2.map(new_dict)"
   ]
  },
  {
   "cell_type": "code",
   "execution_count": 128,
   "metadata": {},
   "outputs": [],
   "source": [
    "df4 = df2.astype(str).str.replace('.0', '', regex=False)"
   ]
  },
  {
   "cell_type": "code",
   "execution_count": 129,
   "metadata": {},
   "outputs": [
    {
     "data": {
      "text/plain": [
       "0     22T1\n",
       "1     22G1\n",
       "2     22G1\n",
       "3     22G1\n",
       "4     22G1\n",
       "      ... \n",
       "88    22G1\n",
       "89    22G1\n",
       "90    22G1\n",
       "91    22G1\n",
       "92    22G1\n",
       "Name: ISO TYPE, Length: 93, dtype: object"
      ]
     },
     "execution_count": 129,
     "metadata": {},
     "output_type": "execute_result"
    }
   ],
   "source": [
    "df4.replace(new_dict, regex=False)"
   ]
  },
  {
   "cell_type": "code",
   "execution_count": 118,
   "metadata": {},
   "outputs": [
    {
     "data": {
      "text/plain": [
       "0     2270 \n",
       "1     2200 \n",
       "2      22G1\n",
       "3      22G1\n",
       "4      22G1\n",
       "      ...  \n",
       "88     22G1\n",
       "89     22G1\n",
       "90     22G1\n",
       "91     22G1\n",
       "92     22G1\n",
       "Name: ISO TYPE, Length: 93, dtype: object"
      ]
     },
     "execution_count": 118,
     "metadata": {},
     "output_type": "execute_result"
    }
   ],
   "source": [
    "df4"
   ]
  },
  {
   "cell_type": "code",
   "execution_count": null,
   "metadata": {},
   "outputs": [],
   "source": []
  }
 ],
 "metadata": {
  "interpreter": {
   "hash": "dfba822a0ef445a5722cc5f995354a2bca66c844a13293b14a431f9b08cbd6fa"
  },
  "kernelspec": {
   "display_name": "Python 3.9.7 ('py39')",
   "language": "python",
   "name": "python3"
  },
  "language_info": {
   "codemirror_mode": {
    "name": "ipython",
    "version": 3
   },
   "file_extension": ".py",
   "mimetype": "text/x-python",
   "name": "python",
   "nbconvert_exporter": "python",
   "pygments_lexer": "ipython3",
   "version": "3.9.7"
  },
  "orig_nbformat": 4
 },
 "nbformat": 4,
 "nbformat_minor": 2
}
