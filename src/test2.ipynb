{
 "cells": [
  {
   "cell_type": "code",
   "execution_count": 33,
   "metadata": {},
   "outputs": [],
   "source": [
    "import pandas as pd\n",
    "import functions as fn\n",
    "import xlwings as xw\n",
    "import time\n",
    "from pydantic import BaseModel\n",
    "import numpy as np"
   ]
  },
  {
   "cell_type": "code",
   "execution_count": 34,
   "metadata": {},
   "outputs": [],
   "source": [
    "path = r\"C:\\Users\\SWV224\\BOLLORE\\XPF - Documents\\MAINTENANCE\\Test files\\0115_Bokningsblad_data.xlsb\"\n",
    "\n",
    "with xw.App(visible=False) as app:\n",
    "    wb = app.books.open(path)\n",
    "    rng = wb.sheets[\"INFO\"].range('A4').expand()\n",
    "\n",
    "    df = wb.sheets[\"INFO\"].range(rng).options(pd.DataFrame, index=False, header=True).value\n"
   ]
  },
  {
   "cell_type": "code",
   "execution_count": null,
   "metadata": {},
   "outputs": [],
   "source": [
    "tic = time.perf_counter()\n",
    "df = fn.regex_no_extra_whitespace(df).copy()\n",
    "toc = time.perf_counter()\n",
    "print(f'{toc - tic:0.3f} seconds')"
   ]
  },
  {
   "cell_type": "code",
   "execution_count": null,
   "metadata": {},
   "outputs": [],
   "source": [
    "import json\n",
    "\n",
    "with open(r'C:\\Users\\SWV224\\BOLLORE\\XPF - Documents\\MAINTENANCE\\PYTHON\\ELL-creation\\src\\ell-data.json', 'w') as fp:\n",
    "    result = df.to_json(orient='records')\n",
    "    parsed = json.loads(result)\n",
    "    json.dump(parsed, fp, indent= 1)\n"
   ]
  },
  {
   "cell_type": "code",
   "execution_count": 35,
   "metadata": {},
   "outputs": [],
   "source": [
    "dict_records = df.to_json(orient='records')\n",
    "json_load = json.loads(dict_records)"
   ]
  },
  {
   "cell_type": "code",
   "execution_count": null,
   "metadata": {},
   "outputs": [],
   "source": [
    "df"
   ]
  },
  {
   "cell_type": "code",
   "execution_count": 36,
   "metadata": {},
   "outputs": [],
   "source": [
    "import json\n",
    "from typing import List, Optional\n",
    "from numpy import datetime_data\n",
    "\n",
    "import pandas as pd\n",
    "import xlwings as xw\n",
    "from pydantic import BaseModel\n",
    "\n",
    "class LoggingError(Exception):\n",
    "    \"\"\"Custom error that is raised if error dict exists.\"\"\"\n",
    "    def __init__(self, title: str, message: str) -> None:\n",
    "        self.title = title\n",
    "        self.message = message\n",
    "        super().__init__(message)\n",
    "\n",
    "class Unit(BaseModel):\n",
    "    \"\"\"Represents data from a row in 'Bokningsblad'.\"\"\"\n",
    "\n",
    "    BOOKING: Optional[str]\n",
    "    MLO: Optional[str]\n",
    "    POL: Optional[str]\n",
    "    TOL: Optional[str]\n",
    "    CONTAINER: Optional[str]\n",
    "    ISO_TYPE: Optional[str]\n",
    "    NET_WEIGHT: Optional[float]\n",
    "    POD_STATUS: Optional[str]\n",
    "    LOAD_STATUS: Optional[str]\n",
    "    VGM: Optional[float]\n",
    "    OOG: Optional[str]\n",
    "    REMARK: Optional[str]\n",
    "    IMDG: Optional[float]\n",
    "    UNNR: Optional[int]\n",
    "    CHEM_REF: Optional[str]\n",
    "    MRN: Optional[str]\n",
    "    TEMP: Optional[str]\n",
    "    PO_NUMBER: Optional[str]\n",
    "    CUSTOMS_STATUS: Optional[str]\n",
    "    PACKAGES: Optional[int]\n",
    "    GOODS_DESCRIPTION: Optional[str]\n",
    "    OCEAN_VESSEL: Optional[str]\n",
    "    VOYAGE: Optional[str]\n",
    "    ETA: Optional[str]\n",
    "    FINAL_POD: Optional[str]"
   ]
  },
  {
   "cell_type": "code",
   "execution_count": 37,
   "metadata": {},
   "outputs": [
    {
     "name": "stdout",
     "output_type": "stream",
     "text": [
      "BOOKING='2GOT001945' MLO='HSL' POL='DEHAM' TOL='DEEGH' CONTAINER=None ISO_TYPE='22G1' NET_WEIGHT=20.0 POD_STATUS='T' LOAD_STATUS='LA' VGM=None OOG=None REMARK=None IMDG=None UNNR=None CHEM_REF=None MRN=None TEMP=None PO_NUMBER=None CUSTOMS_STATUS='T1' PACKAGES=None GOODS_DESCRIPTION='BEVERAGESALCOHOLIC(NOS)' OCEAN_VESSEL='CAP SAN MALEAS' VOYAGE='213S' ETA='13.05.2022' FINAL_POD='UYMVD'\n"
     ]
    }
   ],
   "source": [
    "def test():\n",
    "    rader: List[Unit] = [Unit(**item) for item in json_load]\n",
    "    print(rader[0])\n",
    "\n",
    "test()"
   ]
  },
  {
   "cell_type": "code",
   "execution_count": null,
   "metadata": {},
   "outputs": [],
   "source": [
    "json_load"
   ]
  },
  {
   "cell_type": "code",
   "execution_count": null,
   "metadata": {},
   "outputs": [],
   "source": []
  }
 ],
 "metadata": {
  "interpreter": {
   "hash": "dfba822a0ef445a5722cc5f995354a2bca66c844a13293b14a431f9b08cbd6fa"
  },
  "kernelspec": {
   "display_name": "Python 3.9.7 ('py39')",
   "language": "python",
   "name": "python3"
  },
  "language_info": {
   "codemirror_mode": {
    "name": "ipython",
    "version": 3
   },
   "file_extension": ".py",
   "mimetype": "text/x-python",
   "name": "python",
   "nbconvert_exporter": "python",
   "pygments_lexer": "ipython3",
   "version": "3.10.0"
  },
  "orig_nbformat": 4
 },
 "nbformat": 4,
 "nbformat_minor": 2
}
