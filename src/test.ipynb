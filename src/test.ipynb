{
 "cells": [
  {
   "cell_type": "code",
   "execution_count": 2,
   "metadata": {},
   "outputs": [],
   "source": [
    "import xlwings as xw\n",
    "import pandas as pd\n",
    "from pathlib import Path\n",
    "import numpy as np"
   ]
  },
  {
   "cell_type": "code",
   "execution_count": null,
   "metadata": {},
   "outputs": [],
   "source": [
    "wb = xw.Book(r'C:\\Users\\SWV224\\BOLLORE\\XPF - Documents\\0109_Bokningsblad_TEST2.xlsb')\n",
    "sheet = wb.sheets('INFO')\n",
    "data_table = sheet.range('A4').expand()\n",
    "df = sheet.range(data_table).options(pd.DataFrame, index=False, header=True).value"
   ]
  },
  {
   "cell_type": "code",
   "execution_count": null,
   "metadata": {},
   "outputs": [],
   "source": [
    "df = pd.DataFrame(df)\n",
    "df = df.groupby('MLO').size().iteritems()"
   ]
  },
  {
   "cell_type": "code",
   "execution_count": null,
   "metadata": {},
   "outputs": [],
   "source": [
    "for i in df:\n",
    "    print(i)"
   ]
  },
  {
   "cell_type": "code",
   "execution_count": null,
   "metadata": {},
   "outputs": [],
   "source": [
    "df = pd.DataFrame({'MLO': ['ONE', 'HL', 'HSL', 'HSL', 'MSK', 'ONE', 'ONE'], 'BOOKING NUMBER': ['ASDF123', 'FGH345', 'GHJ567', 'GHJ567', 'YUI5678', 'ASDF124', 'ASDF124']})"
   ]
  },
  {
   "cell_type": "code",
   "execution_count": null,
   "metadata": {},
   "outputs": [],
   "source": [
    "print(df)"
   ]
  },
  {
   "cell_type": "code",
   "execution_count": null,
   "metadata": {},
   "outputs": [],
   "source": [
    "test_group = df.groupby('MLO')\n",
    "\n",
    "home = Path.home()\n",
    "file = r'C:\\Users\\SWV224\\BOLLORE\\XPF - Documents\\MAINTENANCE\\templates\\template-pre-export.xlsx'\n",
    "\n",
    "for name, group in test_group:\n",
    "    with xw.App(visible=False) as app:\n",
    "        wb = app.books.open(file)\n",
    "        sheet = wb.sheets['INFO']\n",
    "        sheet.range('A5').options(pd.DataFrame, index=False, header=False).value = group\n",
    "        wb.save(str(home) + r'\\OneDrive - BOLLORE\\Skrivbordet\\PRE_EXPORT_' + name + '_TEST.xlsx')\n",
    "\n",
    "\n"
   ]
  },
  {
   "cell_type": "code",
   "execution_count": null,
   "metadata": {},
   "outputs": [],
   "source": [
    "def container_dummy(container: str):\n",
    "    container_num = 1\n",
    "    dummy = \"DUMY\"\n",
    "\n",
    "    if container != None:\n",
    "        return None\n",
    "    else:\n",
    "        for \n",
    "\n",
    "    "
   ]
  },
  {
   "cell_type": "code",
   "execution_count": null,
   "metadata": {},
   "outputs": [],
   "source": [
    "np.arange(10)"
   ]
  },
  {
   "cell_type": "code",
   "execution_count": null,
   "metadata": {},
   "outputs": [],
   "source": [
    "def test_increment():\n",
    "    num_empty_rows = df['CONTAINER'].isnull().sum()\n",
    "    number_list = np.arange(num_empty_rows)\n",
    "    \n",
    "    \n",
    "\n",
    "    pass"
   ]
  },
  {
   "cell_type": "code",
   "execution_count": null,
   "metadata": {},
   "outputs": [],
   "source": [
    "\n",
    "num_empty_rows = df['CONTAINER'].isnull().sum()\n",
    "num_as_text_in_list = np.arange(num_empty_rows).astype(str)\n",
    "list_filled_with_zeros = [\"DUMY\" + numbers.zfill(7) for numbers in num_as_text_in_list]\n",
    "df.loc[df['CONTAINER'].isnull(), 'CONTAINER'] = list_filled_with_zeros\n",
    "\n",
    "print(df['CONTAINER'])\n",
    "\n",
    "\n"
   ]
  },
  {
   "cell_type": "code",
   "execution_count": null,
   "metadata": {},
   "outputs": [],
   "source": [
    "text = '10'\n",
    "text.zfill(7)"
   ]
  },
  {
   "cell_type": "code",
   "execution_count": null,
   "metadata": {},
   "outputs": [],
   "source": [
    "lower_row = sheet.range('A' + str(sheet.cells.last_cell.row)).end('up').row\n",
    "\n",
    "for row in range(lower_row, 1, -1):\n",
    "    if sheet.range('A' + str(row)).value == None:\n",
    "        next\n",
    "    elif row == 5:\n",
    "        row = 5\n",
    "        break\n",
    "    else:\n",
    "        row\n",
    "        break\n",
    "\n",
    "print(row)"
   ]
  },
  {
   "cell_type": "code",
   "execution_count": null,
   "metadata": {},
   "outputs": [],
   "source": [
    "xw.main.Table.totals_row_range"
   ]
  },
  {
   "cell_type": "code",
   "execution_count": null,
   "metadata": {},
   "outputs": [],
   "source": [
    "used_range_rows = (sheet.api.UsedRange.Row, sheet.api.UsedRange.Row + sheet.api.UsedRange.Rows.Count)\n",
    "\n",
    "used_range_cols = (sheet.api.UsedRange.Column, sheet.api.UsedRange.Column + sheet.api.UsedRange.Columns.Count)\n",
    "\n",
    "used_range = xw.Range(*zip(used_range_rows, used_range_cols))"
   ]
  },
  {
   "cell_type": "code",
   "execution_count": null,
   "metadata": {},
   "outputs": [],
   "source": [
    "print(used_range_rows)"
   ]
  },
  {
   "cell_type": "code",
   "execution_count": 3,
   "metadata": {},
   "outputs": [],
   "source": [
    "wb = xw.Book(r'C:\\Users\\SWV224\\BOLLORE\\XPF - Documents\\0109_Bokningsblad_TEST2.xlsb')\n",
    "sheet = wb.sheets('INFO')\n"
   ]
  },
  {
   "cell_type": "code",
   "execution_count": 16,
   "metadata": {},
   "outputs": [
    {
     "name": "stdout",
     "output_type": "stream",
     "text": [
      "122\n"
     ]
    }
   ],
   "source": [
    "last_row = sheet.api.UsedRange.Row + sheet.api.UsedRange.Rows.Count -1\n",
    "print(last_row)"
   ]
  },
  {
   "cell_type": "code",
   "execution_count": 5,
   "metadata": {},
   "outputs": [],
   "source": [
    "# XlFormatCondition Type\n",
    "xlCellValue = 1\n",
    "xlExpression = 2\n",
    "xlColorScale = 3\n",
    "xlDataBar = 4\n",
    "xlTop10 = 5\n",
    "xlIconSet = 6\n",
    "xlUniqueValues = 8\n",
    "xlTextString = 9\n",
    "xlBlanksCondition = 10\n",
    "xlTimePeriod = 11\n",
    "xlAboveAverageCondition = 12\n",
    "xlNoBlanksCondition = 13\n",
    "xlErrorsCondition = 16\n",
    "xlNoErrorsCondition = 17\n",
    "\n",
    "# XlFormatConditionOperator\n",
    "xlBetween = 1\n",
    "xlNotBetween = 2\n",
    "xlEqual = 3\n",
    "xlNotEqual = 4\n",
    "xlGreater = 5\n",
    "xlLess = 6\n",
    "xlGreaterEqual = 7\n",
    "xlLessEqual = 8\n",
    "xlDuplicate = 1\n",
    "xlUnique = 0"
   ]
  },
  {
   "cell_type": "code",
   "execution_count": 9,
   "metadata": {},
   "outputs": [],
   "source": [
    "mlo = sheet.api.Range('INFO[MLO]')\n",
    "pol = sheet.api.Range('INFO[POL]')\n",
    "tol = sheet.api.Range('INFO[TOL]')\n",
    "container = sheet.api.Range('INFO[CONTAINER]')\n",
    "iso_type = sheet.api.Range('INFO[ISO TYPE]')\n",
    "load_status = sheet.api.Range('INFO[LOAD STATUS]')\n",
    "imdg = sheet.api.Range('INFO[IMDG]')\n",
    "unnr = sheet.api.Range('INFO[UNNR]')\n",
    "temp = sheet.api.Range('INFO[TEMP]')\n",
    "po_number = sheet.api.Range('INFO[PO NUMBER]')\n",
    "customs_status = sheet.api.Range('INFO[CUSTOMS STATUS]')\n",
    "ocean_vessel = sheet.api.Range('INFO[OCEAN VESSEL]')\n",
    "final_pod = sheet.api.Range('INFO[FINAL POD]')\n",
    "info_table = sheet.api.Range('INFO')\n",
    "info_range = sheet.api.Range('A5:Y702')"
   ]
  },
  {
   "cell_type": "code",
   "execution_count": 7,
   "metadata": {},
   "outputs": [],
   "source": [
    "def rgb_to_hex(rgb):\n",
    "    bgr = (rgb[2], rgb[1], rgb[0])\n",
    "    strValue = '%02x%02x%02x' % bgr\n",
    "    #print(strValue)\n",
    "    iValue = int(strValue, 16)\n",
    "    return iValue"
   ]
  },
  {
   "cell_type": "code",
   "execution_count": 31,
   "metadata": {},
   "outputs": [
    {
     "data": {
      "text/plain": [
       "65535"
      ]
     },
     "execution_count": 31,
     "metadata": {},
     "output_type": "execute_result"
    }
   ],
   "source": [
    "rgb_to_hex((255, 255, 0))"
   ]
  },
  {
   "cell_type": "code",
   "execution_count": 56,
   "metadata": {},
   "outputs": [
    {
     "data": {
      "text/plain": [
       "<xlwings._xlwindows.COMRetryMethodWrapper at 0x2799330cc40>"
      ]
     },
     "execution_count": 56,
     "metadata": {},
     "output_type": "execute_result"
    }
   ],
   "source": [
    "info_table.FormatConditions.Delete"
   ]
  },
  {
   "cell_type": "code",
   "execution_count": 86,
   "metadata": {},
   "outputs": [],
   "source": [
    "yellow = (255, 255, 0)\n",
    "reddish = (255, 50, 0)\n",
    "pinkish = (255, 204, 204)\n",
    "red_font = (179, 31, 31)\n",
    "red = (238, 0 , 0)\n",
    "\n",
    "#MLO\n",
    "mlo.FormatConditions.Add(xlExpression, Formula1=\"=DATA!$A5=FALSE\")\n",
    "mlo.FormatConditions(1).Interior.Color=rgb_to_hex(yellow)\n",
    "mlo.FormatConditions(1).Font.Color=rgb_to_hex(reddish)\n",
    "\n",
    "#POL\n",
    "pol.FormatConditions.Add(xlExpression, Formula1=\"=DATA!$B5=FALSE\")\n",
    "pol.FormatConditions(1).Interior.Color=rgb_to_hex(yellow)\n",
    "pol.FormatConditions(1).Font.Color=rgb_to_hex(reddish)\n",
    "\n",
    "#TOL\n",
    "tol.FormatConditions.Add(xlExpression, Formula1=\"=DATA!$B5=FALSE\")\n",
    "tol.FormatConditions(1).Interior.Color=rgb_to_hex(yellow)\n",
    "tol.FormatConditions(1).Font.Color=rgb_to_hex(reddish)\n",
    "\n",
    "#CONTAINER\n",
    "container.FormatConditions.Add(xlExpression, Formula1=\"=DATA!$C5=FALSE\")\n",
    "container.FormatConditions(1).Interior.Color=rgb_to_hex(yellow)\n",
    "container.FormatConditions(1).Font.Color=rgb_to_hex(reddish)\n",
    "\n",
    "container_format2 = container.FormatConditions.AddUniqueValues\n",
    "container_format2.DupeUnique = xlDuplicate\n",
    "container.FormatConditions(1).Interior.Color=rgb_to_hex(pinkish)\n",
    "container.FormatConditions(1).Font.Color=rgb_to_hex(red_font)\n",
    "#container.FormatConditions(2).Interior.Color=rgb_to_hex(pinkish)\n",
    "#container.FormatConditions(2).Font.Color=rgb_to_hex(red_font)\n",
    "\n",
    "#ISO TYPE\n",
    "iso_type.FormatConditions.Add(xlExpression, Formula1=\"=DATA!$D5=FALSE\")\n",
    "iso_type.FormatConditions(1).Interior.Color=rgb_to_hex(yellow)\n",
    "iso_type.FormatConditions(1).Font.Color=rgb_to_hex(reddish)\n",
    "\n",
    "#LOAD STATUS\n",
    "load_status.FormatConditions.Add(xlExpression, Formula1=\"=DATA!$E5=FALSE\")\n",
    "load_status.FormatConditions(1).Interior.Color=rgb_to_hex(yellow)\n",
    "load_status.FormatConditions(1).Font.Color=rgb_to_hex(reddish)\n",
    "\n",
    "#IMDG\n",
    "imdg.FormatConditions.Add(xlExpression, Formula1=\"=DATA!$F5=FALSE\")\n",
    "imdg.FormatConditions(1).Interior.Color=rgb_to_hex(yellow)\n",
    "imdg.FormatConditions(1).Font.Color=rgb_to_hex(reddish)\n",
    "\n",
    "#UNNR\n",
    "unnr.FormatConditions.Add(xlExpression, Formula1=\"=DATA!$F5=FALSE\")\n",
    "unnr.FormatConditions(1).Interior.Color=rgb_to_hex(yellow)\n",
    "unnr.FormatConditions(1).Font.Color=rgb_to_hex(reddish)\n",
    "\n",
    "#TEMP\n",
    "temp.FormatConditions.Add(xlExpression, Formula1=\"=DATA!$G5=FALSE\")\n",
    "temp.FormatConditions(1).Interior.Color=rgb_to_hex(yellow)\n",
    "temp.FormatConditions(1).Font.Color=rgb_to_hex(reddish)\n",
    "\n",
    "#PO NUMBER\n",
    "po_number.FormatConditions.Add(xlExpression, Formula1=\"=DATA!$H5=FALSE\")\n",
    "po_number.FormatConditions(1).Interior.Color=rgb_to_hex(yellow)\n",
    "po_number.FormatConditions(1).Font.Color=rgb_to_hex(reddish)\n",
    "\n",
    "#CUSTOMS STATUS\n",
    "customs_status.FormatConditions.Add(xlExpression, Formula1=\"=S5<>DATA!$I5\")\n",
    "customs_status.FormatConditions(1).Interior.Color=rgb_to_hex(yellow)\n",
    "customs_status.FormatConditions(1).Font.Color=rgb_to_hex(reddish)\n",
    "\n",
    "#OCEAN VESSEL\n",
    "ocean_vessel.FormatConditions.Add(xlExpression, Formula1=\"=DATA!$J5=FALSE\")\n",
    "ocean_vessel.FormatConditions(1).Interior.Color=rgb_to_hex(yellow)\n",
    "ocean_vessel.FormatConditions(1).Font.Color=rgb_to_hex(reddish)\n",
    "\n",
    "#FINAL POD\n",
    "final_pod.FormatConditions.Add(xlExpression, Formula1=\"=DATA!$K5=FALSE\")\n",
    "final_pod.FormatConditions(1).Interior.Color=rgb_to_hex(yellow)\n",
    "final_pod.FormatConditions(1).Font.Color=rgb_to_hex(reddish)\n",
    "\n",
    "\n",
    "\n"
   ]
  },
  {
   "cell_type": "code",
   "execution_count": 17,
   "metadata": {},
   "outputs": [],
   "source": [
    "file_path = r'C:\\Users\\SWV224\\BOLLORE\\XPF - Documents\\MAINTENANCE\\templates\\stored-data-template-cargo-type.csv'\n",
    "\n",
    "df_csv = pd.read_csv(file_path, sep=';', index_col=0, skipinitialspace=True)"
   ]
  },
  {
   "cell_type": "code",
   "execution_count": 24,
   "metadata": {},
   "outputs": [
    {
     "name": "stdout",
     "output_type": "stream",
     "text": [
      "TYPE OUTPUT\n"
     ]
    }
   ],
   "source": [
    "for i in df_csv:\n",
    "    print(i)"
   ]
  },
  {
   "cell_type": "code",
   "execution_count": 27,
   "metadata": {},
   "outputs": [
    {
     "name": "stdout",
     "output_type": "stream",
     "text": [
      "CARGO TYPE INPUT\n",
      "2200    22G1\n",
      "2210    22G1\n",
      "20'     22G1\n",
      "20DV    22G1\n",
      "20GP    22G1\n",
      "        ... \n",
      "40OH    45U1\n",
      "45UT    45U1\n",
      "9500    L5G1\n",
      "45HC    L5G1\n",
      "PW45    LEG1\n",
      "Name: TYPE OUTPUT, Length: 88, dtype: object\n"
     ]
    }
   ],
   "source": [
    "print(df_csv['TYPE OUTPUT'])"
   ]
  },
  {
   "cell_type": "code",
   "execution_count": 32,
   "metadata": {},
   "outputs": [
    {
     "name": "stdout",
     "output_type": "stream",
     "text": [
      "{'2200': '22G1', '2210': '22G1', \"20'\": '22G1', '20DV': '22G1', '20GP': '22G1', \"20'GP\": '22G1', '20H1': '22G1', '20ST': '22G1', '22GP': '22G1', '2SD': '22G1', 'D2': '22G1', 'D20': '22G1', '2261': '22P1', '20FF': '22P1', '22PC': '22P1', 'FR20': '22P1', '2230': '22R1', '22RT': '22R1', 'R20': '22R1', '2270': '22T1', '20TD': '22T1', '20TK': '22T1', '20TN': '22T1', '22KL': '22T1', '22TD': '22T1', '22TN': '22T1', 'TK20': '22T1', '2250': '22U1', '20OT': '22U1', '22OT': '22U1', '22UP': '22U1', '22UT': '22U1', '20OH': '25U1', '25UT': '25U1', '4200': '42G1', '4210': '42G1', '4300': '42G1', '4310': '42G1', '40DC': '42G1', '40DV': '42G1', \"40'DV\": '42G1', '40G2': '42G1', '40GP': '42G1', \"40'GP\": '42G1', '40ST': '42G1', '42GP': '42G1', '4SD': '42G1', 'D4': '42G1', 'D40': '42G1', '4261': '42P1', '4563': '42P1', '40FF': '42P1', '42P4': '42P1', '42PC': '42P1', '42PF': '42P1', 'FR40': '42P1', '4330': '42R1', 'R40': '42R1', '4270': '42T1', 'TK40': '42T1', '4250': '42U1', '40OT': '42U1', '42UT': '42U1', '4500': '45G1', '4510': '45G1', '40H1': '45G1', '40HC': '45G1', \"40'HC\": '45G1', '40HQ': '45G1', '45GP': '45G1', '45UP': '45G1', '4SH': '45G1', 'D5': '45G1', '45PC': '45P1', '4530': '45R1', '4532': '45R1', '40RC': '45R1', '40RH': '45R1', '45RE': '45R1', '45RT': '45R1', '4550': '45U1', '40OH': '45U1', '45UT': '45U1', '9500': 'L5G1', '45HC': 'L5G1', 'PW45': 'LEG1'}\n"
     ]
    }
   ],
   "source": [
    "dict2 = df_csv.to_dict()['TYPE OUTPUT']\n",
    "print(dict2)"
   ]
  },
  {
   "cell_type": "code",
   "execution_count": null,
   "metadata": {},
   "outputs": [],
   "source": [
    "wb = xw.Book(r'C:\\Users\\SWV224\\BOLLORE\\XPF - Documents\\MAINTENANCE\\Test files\\0109_Bokningsblad_exempel.xlsb')\n",
    "ws = wb.sheets('INFO')\n",
    "data_table = sheet.range('A4').expand()\n",
    "df = sheet.range(data_table).options(pd.DataFrame, index=False, header=True).value"
   ]
  },
  {
   "cell_type": "code",
   "execution_count": 35,
   "metadata": {},
   "outputs": [],
   "source": [
    "df = pd.DataFrame({'MLO': ['ONE ', 'HL', 'HSL', ' HSL', ' MSK ', 'ONE', 'ONE'], 'BOOKING NUMBER': [' ASDF123 ', 'FGH345', 'GHJ567 ', 'GHJ567', 'YUI5678', 'ASDF124', 'ASDF124']})"
   ]
  },
  {
   "cell_type": "code",
   "execution_count": 36,
   "metadata": {},
   "outputs": [
    {
     "data": {
      "text/html": [
       "<div>\n",
       "<style scoped>\n",
       "    .dataframe tbody tr th:only-of-type {\n",
       "        vertical-align: middle;\n",
       "    }\n",
       "\n",
       "    .dataframe tbody tr th {\n",
       "        vertical-align: top;\n",
       "    }\n",
       "\n",
       "    .dataframe thead th {\n",
       "        text-align: right;\n",
       "    }\n",
       "</style>\n",
       "<table border=\"1\" class=\"dataframe\">\n",
       "  <thead>\n",
       "    <tr style=\"text-align: right;\">\n",
       "      <th></th>\n",
       "      <th>MLO</th>\n",
       "      <th>BOOKING NUMBER</th>\n",
       "    </tr>\n",
       "  </thead>\n",
       "  <tbody>\n",
       "    <tr>\n",
       "      <th>0</th>\n",
       "      <td>ONE</td>\n",
       "      <td>ASDF123</td>\n",
       "    </tr>\n",
       "    <tr>\n",
       "      <th>1</th>\n",
       "      <td>HL</td>\n",
       "      <td>FGH345</td>\n",
       "    </tr>\n",
       "    <tr>\n",
       "      <th>2</th>\n",
       "      <td>HSL</td>\n",
       "      <td>GHJ567</td>\n",
       "    </tr>\n",
       "    <tr>\n",
       "      <th>3</th>\n",
       "      <td>HSL</td>\n",
       "      <td>GHJ567</td>\n",
       "    </tr>\n",
       "    <tr>\n",
       "      <th>4</th>\n",
       "      <td>MSK</td>\n",
       "      <td>YUI5678</td>\n",
       "    </tr>\n",
       "    <tr>\n",
       "      <th>5</th>\n",
       "      <td>ONE</td>\n",
       "      <td>ASDF124</td>\n",
       "    </tr>\n",
       "    <tr>\n",
       "      <th>6</th>\n",
       "      <td>ONE</td>\n",
       "      <td>ASDF124</td>\n",
       "    </tr>\n",
       "  </tbody>\n",
       "</table>\n",
       "</div>"
      ],
      "text/plain": [
       "   MLO BOOKING NUMBER\n",
       "0  ONE        ASDF123\n",
       "1   HL         FGH345\n",
       "2  HSL         GHJ567\n",
       "3  HSL         GHJ567\n",
       "4  MSK        YUI5678\n",
       "5  ONE        ASDF124\n",
       "6  ONE        ASDF124"
      ]
     },
     "execution_count": 36,
     "metadata": {},
     "output_type": "execute_result"
    }
   ],
   "source": [
    "df"
   ]
  },
  {
   "cell_type": "code",
   "execution_count": null,
   "metadata": {},
   "outputs": [],
   "source": []
  }
 ],
 "metadata": {
  "interpreter": {
   "hash": "dfba822a0ef445a5722cc5f995354a2bca66c844a13293b14a431f9b08cbd6fa"
  },
  "kernelspec": {
   "display_name": "Python 3.9.7 ('py39')",
   "language": "python",
   "name": "python3"
  },
  "language_info": {
   "codemirror_mode": {
    "name": "ipython",
    "version": 3
   },
   "file_extension": ".py",
   "mimetype": "text/x-python",
   "name": "python",
   "nbconvert_exporter": "python",
   "pygments_lexer": "ipython3",
   "version": "3.9.7"
  },
  "orig_nbformat": 4
 },
 "nbformat": 4,
 "nbformat_minor": 2
}
