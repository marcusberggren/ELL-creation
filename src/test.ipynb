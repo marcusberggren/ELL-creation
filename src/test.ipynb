{
 "cells": [
  {
   "cell_type": "code",
   "execution_count": null,
   "metadata": {},
   "outputs": [],
   "source": [
    "import xlwings as xw\n",
    "import pandas as pd\n",
    "from pathlib import Path\n",
    "import numpy as np"
   ]
  },
  {
   "cell_type": "code",
   "execution_count": null,
   "metadata": {},
   "outputs": [],
   "source": [
    "wb = xw.Book(r'C:\\Users\\SWV224\\BOLLORE\\XPF - Documents\\0109_Bokningsblad_TEST2.xlsb')\n",
    "sheet = wb.sheets('INFO')\n",
    "data_table = sheet.range('A4').expand()\n",
    "df = sheet.range(data_table).options(pd.DataFrame, index=False, header=True).value"
   ]
  },
  {
   "cell_type": "code",
   "execution_count": null,
   "metadata": {},
   "outputs": [],
   "source": [
    "df = pd.DataFrame(df)\n",
    "df = df.groupby('MLO').size().iteritems()"
   ]
  },
  {
   "cell_type": "code",
   "execution_count": null,
   "metadata": {},
   "outputs": [],
   "source": [
    "for i in df:\n",
    "    print(i)"
   ]
  },
  {
   "cell_type": "code",
   "execution_count": null,
   "metadata": {},
   "outputs": [],
   "source": [
    "df = pd.DataFrame({'MLO': ['ONE', 'HL', 'HSL', 'HSL', 'MSK', 'ONE', 'ONE'], 'BOOKING NUMBER': ['ASDF123', 'FGH345', 'GHJ567', 'GHJ567', 'YUI5678', 'ASDF124', 'ASDF124']})"
   ]
  },
  {
   "cell_type": "code",
   "execution_count": null,
   "metadata": {},
   "outputs": [],
   "source": [
    "print(df)"
   ]
  },
  {
   "cell_type": "code",
   "execution_count": null,
   "metadata": {},
   "outputs": [],
   "source": [
    "test_group = df.groupby('MLO')\n",
    "\n",
    "home = Path.home()\n",
    "file = r'C:\\Users\\SWV224\\BOLLORE\\XPF - Documents\\MAINTENANCE\\templates\\template-pre-export.xlsx'\n",
    "\n",
    "for name, group in test_group:\n",
    "    with xw.App(visible=False) as app:\n",
    "        wb = app.books.open(file)\n",
    "        sheet = wb.sheets['INFO']\n",
    "        sheet.range('A5').options(pd.DataFrame, index=False, header=False).value = group\n",
    "        wb.save(str(home) + r'\\OneDrive - BOLLORE\\Skrivbordet\\PRE_EXPORT_' + name + '_TEST.xlsx')\n",
    "\n",
    "\n"
   ]
  },
  {
   "cell_type": "code",
   "execution_count": null,
   "metadata": {},
   "outputs": [],
   "source": [
    "def container_dummy(container: str):\n",
    "    container_num = 1\n",
    "    dummy = \"DUMY\"\n",
    "\n",
    "    if container != None:\n",
    "        return None\n",
    "    else:\n",
    "        for \n",
    "\n",
    "    "
   ]
  },
  {
   "cell_type": "code",
   "execution_count": null,
   "metadata": {},
   "outputs": [],
   "source": [
    "np.arange(10)"
   ]
  },
  {
   "cell_type": "code",
   "execution_count": null,
   "metadata": {},
   "outputs": [],
   "source": [
    "def test_increment():\n",
    "    num_empty_rows = df['CONTAINER'].isnull().sum()\n",
    "    number_list = np.arange(num_empty_rows)\n",
    "    \n",
    "    \n",
    "\n",
    "    pass"
   ]
  },
  {
   "cell_type": "code",
   "execution_count": null,
   "metadata": {},
   "outputs": [],
   "source": [
    "\n",
    "num_empty_rows = df['CONTAINER'].isnull().sum()\n",
    "num_as_text_in_list = np.arange(num_empty_rows).astype(str)\n",
    "list_filled_with_zeros = [\"DUMY\" + numbers.zfill(7) for numbers in num_as_text_in_list]\n",
    "df.loc[df['CONTAINER'].isnull(), 'CONTAINER'] = list_filled_with_zeros\n",
    "\n",
    "print(df['CONTAINER'])\n",
    "\n",
    "\n"
   ]
  },
  {
   "cell_type": "code",
   "execution_count": null,
   "metadata": {},
   "outputs": [],
   "source": [
    "text = '10'\n",
    "text.zfill(7)"
   ]
  },
  {
   "cell_type": "code",
   "execution_count": null,
   "metadata": {},
   "outputs": [],
   "source": [
    "lower_row = sheet.range('A' + str(sheet.cells.last_cell.row)).end('up').row\n",
    "\n",
    "for row in range(lower_row, 1, -1):\n",
    "    if sheet.range('A' + str(row)).value == None:\n",
    "        next\n",
    "    elif row == 5:\n",
    "        row = 5\n",
    "        break\n",
    "    else:\n",
    "        row\n",
    "        break\n",
    "\n",
    "print(row)"
   ]
  },
  {
   "cell_type": "code",
   "execution_count": null,
   "metadata": {},
   "outputs": [],
   "source": [
    "xw.main.Table.totals_row_range"
   ]
  },
  {
   "cell_type": "code",
   "execution_count": null,
   "metadata": {},
   "outputs": [],
   "source": [
    "used_range_rows = (sheet.api.UsedRange.Row, sheet.api.UsedRange.Row + sheet.api.UsedRange.Rows.Count)\n",
    "\n",
    "used_range_cols = (sheet.api.UsedRange.Column, sheet.api.UsedRange.Column + sheet.api.UsedRange.Columns.Count)\n",
    "\n",
    "used_range = xw.Range(*zip(used_range_rows, used_range_cols))"
   ]
  },
  {
   "cell_type": "code",
   "execution_count": null,
   "metadata": {},
   "outputs": [],
   "source": [
    "print(used_range_rows)"
   ]
  },
  {
   "cell_type": "code",
   "execution_count": null,
   "metadata": {},
   "outputs": [],
   "source": [
    "wb = xw.Book(r'C:\\Users\\SWV224\\BOLLORE\\XPF - Documents\\0109_Bokningsblad_TEST2.xlsb')\n",
    "sheet = wb.sheets('INFO')\n"
   ]
  },
  {
   "cell_type": "code",
   "execution_count": null,
   "metadata": {},
   "outputs": [],
   "source": [
    "last_row = sheet.api.UsedRange.Row + sheet.api.UsedRange.Rows.Count -1\n",
    "print(last_row)"
   ]
  },
  {
   "cell_type": "code",
   "execution_count": null,
   "metadata": {},
   "outputs": [],
   "source": [
    "# XlFormatCondition Type\n",
    "xlCellValue = 1\n",
    "xlExpression = 2\n",
    "xlColorScale = 3\n",
    "xlDataBar = 4\n",
    "xlTop10 = 5\n",
    "xlIconSet = 6\n",
    "xlUniqueValues = 8\n",
    "xlTextString = 9\n",
    "xlBlanksCondition = 10\n",
    "xlTimePeriod = 11\n",
    "xlAboveAverageCondition = 12\n",
    "xlNoBlanksCondition = 13\n",
    "xlErrorsCondition = 16\n",
    "xlNoErrorsCondition = 17\n",
    "\n",
    "# XlFormatConditionOperator\n",
    "xlBetween = 1\n",
    "xlNotBetween = 2\n",
    "xlEqual = 3\n",
    "xlNotEqual = 4\n",
    "xlGreater = 5\n",
    "xlLess = 6\n",
    "xlGreaterEqual = 7\n",
    "xlLessEqual = 8\n",
    "xlDuplicate = 1\n",
    "xlUnique = 0"
   ]
  },
  {
   "cell_type": "code",
   "execution_count": null,
   "metadata": {},
   "outputs": [],
   "source": [
    "mlo = sheet.api.Range('INFO[MLO]')\n",
    "pol = sheet.api.Range('INFO[POL]')\n",
    "tol = sheet.api.Range('INFO[TOL]')\n",
    "container = sheet.api.Range('INFO[CONTAINER]')\n",
    "iso_type = sheet.api.Range('INFO[ISO TYPE]')\n",
    "load_status = sheet.api.Range('INFO[LOAD STATUS]')\n",
    "imdg = sheet.api.Range('INFO[IMDG]')\n",
    "unnr = sheet.api.Range('INFO[UNNR]')\n",
    "temp = sheet.api.Range('INFO[TEMP]')\n",
    "po_number = sheet.api.Range('INFO[PO NUMBER]')\n",
    "customs_status = sheet.api.Range('INFO[CUSTOMS STATUS]')\n",
    "ocean_vessel = sheet.api.Range('INFO[OCEAN VESSEL]')\n",
    "final_pod = sheet.api.Range('INFO[FINAL POD]')\n",
    "info_table = sheet.api.Range('INFO')\n",
    "info_range = sheet.api.Range('A5:Y702')"
   ]
  },
  {
   "cell_type": "code",
   "execution_count": null,
   "metadata": {},
   "outputs": [],
   "source": [
    "def rgb_to_hex(rgb):\n",
    "    bgr = (rgb[2], rgb[1], rgb[0])\n",
    "    strValue = '%02x%02x%02x' % bgr\n",
    "    #print(strValue)\n",
    "    iValue = int(strValue, 16)\n",
    "    return iValue"
   ]
  },
  {
   "cell_type": "code",
   "execution_count": null,
   "metadata": {},
   "outputs": [],
   "source": [
    "rgb_to_hex((255, 255, 0))"
   ]
  },
  {
   "cell_type": "code",
   "execution_count": null,
   "metadata": {},
   "outputs": [],
   "source": [
    "info_table.FormatConditions.Delete"
   ]
  },
  {
   "cell_type": "code",
   "execution_count": null,
   "metadata": {},
   "outputs": [],
   "source": [
    "yellow = (255, 255, 0)\n",
    "reddish = (255, 50, 0)\n",
    "pinkish = (255, 204, 204)\n",
    "red_font = (179, 31, 31)\n",
    "red = (238, 0 , 0)\n",
    "\n",
    "#MLO\n",
    "mlo.FormatConditions.Add(xlExpression, Formula1=\"=DATA!$A5=FALSE\")\n",
    "mlo.FormatConditions(1).Interior.Color=rgb_to_hex(yellow)\n",
    "mlo.FormatConditions(1).Font.Color=rgb_to_hex(reddish)\n",
    "\n",
    "#POL\n",
    "pol.FormatConditions.Add(xlExpression, Formula1=\"=DATA!$B5=FALSE\")\n",
    "pol.FormatConditions(1).Interior.Color=rgb_to_hex(yellow)\n",
    "pol.FormatConditions(1).Font.Color=rgb_to_hex(reddish)\n",
    "\n",
    "#TOL\n",
    "tol.FormatConditions.Add(xlExpression, Formula1=\"=DATA!$B5=FALSE\")\n",
    "tol.FormatConditions(1).Interior.Color=rgb_to_hex(yellow)\n",
    "tol.FormatConditions(1).Font.Color=rgb_to_hex(reddish)\n",
    "\n",
    "#CONTAINER\n",
    "container.FormatConditions.Add(xlExpression, Formula1=\"=DATA!$C5=FALSE\")\n",
    "container.FormatConditions(1).Interior.Color=rgb_to_hex(yellow)\n",
    "container.FormatConditions(1).Font.Color=rgb_to_hex(reddish)\n",
    "\n",
    "container_format2 = container.FormatConditions.AddUniqueValues\n",
    "container_format2.DupeUnique = xlDuplicate\n",
    "container.FormatConditions(1).Interior.Color=rgb_to_hex(pinkish)\n",
    "container.FormatConditions(1).Font.Color=rgb_to_hex(red_font)\n",
    "#container.FormatConditions(2).Interior.Color=rgb_to_hex(pinkish)\n",
    "#container.FormatConditions(2).Font.Color=rgb_to_hex(red_font)\n",
    "\n",
    "#ISO TYPE\n",
    "iso_type.FormatConditions.Add(xlExpression, Formula1=\"=DATA!$D5=FALSE\")\n",
    "iso_type.FormatConditions(1).Interior.Color=rgb_to_hex(yellow)\n",
    "iso_type.FormatConditions(1).Font.Color=rgb_to_hex(reddish)\n",
    "\n",
    "#LOAD STATUS\n",
    "load_status.FormatConditions.Add(xlExpression, Formula1=\"=DATA!$E5=FALSE\")\n",
    "load_status.FormatConditions(1).Interior.Color=rgb_to_hex(yellow)\n",
    "load_status.FormatConditions(1).Font.Color=rgb_to_hex(reddish)\n",
    "\n",
    "#IMDG\n",
    "imdg.FormatConditions.Add(xlExpression, Formula1=\"=DATA!$F5=FALSE\")\n",
    "imdg.FormatConditions(1).Interior.Color=rgb_to_hex(yellow)\n",
    "imdg.FormatConditions(1).Font.Color=rgb_to_hex(reddish)\n",
    "\n",
    "#UNNR\n",
    "unnr.FormatConditions.Add(xlExpression, Formula1=\"=DATA!$F5=FALSE\")\n",
    "unnr.FormatConditions(1).Interior.Color=rgb_to_hex(yellow)\n",
    "unnr.FormatConditions(1).Font.Color=rgb_to_hex(reddish)\n",
    "\n",
    "#TEMP\n",
    "temp.FormatConditions.Add(xlExpression, Formula1=\"=DATA!$G5=FALSE\")\n",
    "temp.FormatConditions(1).Interior.Color=rgb_to_hex(yellow)\n",
    "temp.FormatConditions(1).Font.Color=rgb_to_hex(reddish)\n",
    "\n",
    "#PO NUMBER\n",
    "po_number.FormatConditions.Add(xlExpression, Formula1=\"=DATA!$H5=FALSE\")\n",
    "po_number.FormatConditions(1).Interior.Color=rgb_to_hex(yellow)\n",
    "po_number.FormatConditions(1).Font.Color=rgb_to_hex(reddish)\n",
    "\n",
    "#CUSTOMS STATUS\n",
    "customs_status.FormatConditions.Add(xlExpression, Formula1=\"=S5<>DATA!$I5\")\n",
    "customs_status.FormatConditions(1).Interior.Color=rgb_to_hex(yellow)\n",
    "customs_status.FormatConditions(1).Font.Color=rgb_to_hex(reddish)\n",
    "\n",
    "#OCEAN VESSEL\n",
    "ocean_vessel.FormatConditions.Add(xlExpression, Formula1=\"=DATA!$J5=FALSE\")\n",
    "ocean_vessel.FormatConditions(1).Interior.Color=rgb_to_hex(yellow)\n",
    "ocean_vessel.FormatConditions(1).Font.Color=rgb_to_hex(reddish)\n",
    "\n",
    "#FINAL POD\n",
    "final_pod.FormatConditions.Add(xlExpression, Formula1=\"=DATA!$K5=FALSE\")\n",
    "final_pod.FormatConditions(1).Interior.Color=rgb_to_hex(yellow)\n",
    "final_pod.FormatConditions(1).Font.Color=rgb_to_hex(reddish)\n",
    "\n",
    "\n",
    "\n"
   ]
  },
  {
   "cell_type": "code",
   "execution_count": null,
   "metadata": {},
   "outputs": [],
   "source": [
    "file_path = r'C:\\Users\\SWV224\\BOLLORE\\XPF - Documents\\MAINTENANCE\\templates\\stored-data-template-cargo-type.csv'\n",
    "\n",
    "df_csv = pd.read_csv(file_path, sep=';', index_col=0, skipinitialspace=True)"
   ]
  },
  {
   "cell_type": "code",
   "execution_count": null,
   "metadata": {},
   "outputs": [],
   "source": [
    "for i in df_csv:\n",
    "    print(i)"
   ]
  },
  {
   "cell_type": "code",
   "execution_count": null,
   "metadata": {},
   "outputs": [],
   "source": [
    "print(df_csv['TYPE OUTPUT'])"
   ]
  },
  {
   "cell_type": "code",
   "execution_count": null,
   "metadata": {},
   "outputs": [],
   "source": [
    "dict2 = df_csv.to_dict()['TYPE OUTPUT']\n",
    "print(dict2)"
   ]
  },
  {
   "cell_type": "code",
   "execution_count": null,
   "metadata": {},
   "outputs": [],
   "source": [
    "wb = xw.Book(r'C:\\Users\\SWV224\\BOLLORE\\XPF - Documents\\MAINTENANCE\\Test files\\0109_Bokningsblad_exempel.xlsb')\n",
    "ws = wb.sheets('INFO')\n",
    "data_table = sheet.range('A4').expand()\n",
    "df = sheet.range(data_table).options(pd.DataFrame, index=False, header=True).value"
   ]
  },
  {
   "cell_type": "code",
   "execution_count": null,
   "metadata": {},
   "outputs": [],
   "source": [
    "df = pd.DataFrame({'MLO': ['ONE ', 'HL', 'HSL', ' HSL', ' MSK ', 'ONE', 'ONE'], 'BOOKING NUMBER': [' ASDF123 ', 'FGH345', 'GHJ567 ', 'GHJ567', 'YUI5678', 'ASDF124', 'ASDF124']})"
   ]
  },
  {
   "cell_type": "code",
   "execution_count": null,
   "metadata": {},
   "outputs": [],
   "source": [
    "df"
   ]
  },
  {
   "cell_type": "code",
   "execution_count": null,
   "metadata": {},
   "outputs": [],
   "source": [
    "import re\n",
    "\n",
    "test2 = re.search(r'^\\w{4}\\d{7}', \"DYMY0000001\")\n",
    "\n",
    "print(test2)\n",
    "\n"
   ]
  },
  {
   "cell_type": "code",
   "execution_count": null,
   "metadata": {},
   "outputs": [],
   "source": [
    "import xlwings as xw\n",
    "import pandas as pd\n",
    "\n",
    "wb = xw.Book(r'C:\\Users\\SWV224\\BOLLORE\\XPF - Documents\\MAINTENANCE\\Test files\\FITOR_Makro.xlsm')\n",
    "sheet = wb.sheets('LIB')\n",
    "lib_range = sheet.range('A2').expand()\n",
    "lib_df = sheet.range(lib_range).options(dict).value\n",
    "#lib_dict = lib_df.to_dict()\n",
    "\n",
    "print(lib_df)"
   ]
  },
  {
   "cell_type": "code",
   "execution_count": null,
   "metadata": {},
   "outputs": [],
   "source": [
    "file_path = r'C:\\Users\\SWV224\\BOLLORE\\XPF - Documents\\MAINTENANCE\\templates\\stored-data-mlo.csv'\n",
    "df_csv = pd.read_csv(file_path, sep=';', index_col=0, skipinitialspace=True)\n",
    "new_dict = df_csv.to_dict()['NAME']\n",
    "#df = df['MLO'].replace(new_dict).copy()\n",
    "print(new_dict)"
   ]
  },
  {
   "cell_type": "code",
   "execution_count": 2,
   "metadata": {},
   "outputs": [],
   "source": [
    "import pandas as pd"
   ]
  },
  {
   "cell_type": "code",
   "execution_count": 10,
   "metadata": {},
   "outputs": [
    {
     "name": "stdout",
     "output_type": "stream",
     "text": [
      "['MSDU2319070' '22T1' 'DEEGB']\n",
      "['TRHU1290156' '22T1' 'DEEGB']\n",
      "['MEDU2743841' '22G1' 'DEEGH']\n",
      "{'MSDU2319070': ['22T1', 'DEEGB'], 'TRHU1290156': ['22T1', 'DEEGB'], 'MEDU2743841': ['22G1', 'DEEGH']}\n"
     ]
    }
   ],
   "source": [
    "list_of_shipper = ['ONE', 'HL', 'MSK', 'ONE', 'VOTG', 'HSL']\n",
    "list_of_booking_refs = ['1112', 23334, '12dsd2', 4567, '123erf', '123ed']\n",
    "#list1 = [list_of_booking_refs[x] for x, y in enumerate(list_of_shipper) if 'HL' in y else \"\" if 'ONE' not in y else \"\"]\n",
    "\n",
    "list2 = []\n",
    "\n",
    "for i, shipper in enumerate(list_of_shipper):\n",
    "    if 'HL' in shipper:\n",
    "        list2.append(\"\")\n",
    "    if 'ONE' in shipper:\n",
    "        list2.append(\"\")\n",
    "    else:\n",
    "        list2.append(list_of_booking_refs[i])\n",
    "\n",
    "#print(list2, list1)\n",
    "\n",
    "dict1 = {'MLO':[\"HSL\", \"HL\", \"ONE\", \"MSK\", \"VOTG\"], 'BOOK':[123, 123, 134, 567, 678]}\n",
    "\n",
    "dict2 = {'CONTAINER': {'MSDU2319070': ['DEEGB', '22T1', 'MT', 'DG'], 'TRHU1290156': ['DEEGB', '22T1', 'MT', 'DG'], 'MEDU2743841': ['DEEGH', '22G1', 'LA', '']}}\n",
    "\n",
    "dict3 = {'CONTAINER': ['MSDU2319070', 'TRHU1290156', 'TCKU2174506'], 'ISO TYPE': ['22G1', '22G1', '22G1'], 'TERMINAL': ['DEEGB', 'DEEGB', 'DEEGB'], 'LOAD STATUS': ['', '', '']}\n",
    "\n",
    "dict4 = {'MSDU2319070': ['DEEGB', '22T1', 'MT', 'DG'], 'TRHU1290156': ['DEEGB', '22T1', 'MT', 'DG'], 'MEDU2743841': ['DEEGH', '22G1', 'LA', '']}\n",
    "\n",
    "dict5 = {'CONTAINER': ['MSDU2319070', 'TRHU1290156', 'MEDU2743841'], 'ISO TYPE': ['22T1', '22T1', '22G1'], 'TERMINAL': ['DEEGB', 'DEEGB', 'DEEGH']}\n",
    "\n",
    "list2 = ['MSCU3403789', 'MSDU2319070', 'GESU1329778', 'TTNU1531165', 'TTNU3935438', 'TRHU1290156']\n",
    "\n",
    "df2 = pd.DataFrame(dict2)\n",
    "df3 = pd.DataFrame(dict3)\n",
    "df4 = pd.DataFrame(dict4)\n",
    "df5 = pd.DataFrame(dict5)\n",
    "\n",
    "list10 = []\n",
    "dict5 = df5.to_dict('list')\n",
    "dict10 = {}\n",
    "for str in df5.values:\n",
    "    print(str)\n",
    "    dict10[str[0]] = [str[1], str[2]]\n",
    "\n",
    "print(dict10)"
   ]
  },
  {
   "cell_type": "code",
   "execution_count": null,
   "metadata": {},
   "outputs": [],
   "source": [
    "list2 = ['SHANGHAI', 'PORT KLANG', 'KAOHSIUNG', 'PUSAN', 'SHANGHAI']\n",
    "\n",
    "list4 = [a.capitalize() for a in list2 if a.isalnum()]\n",
    "\n",
    "print(list4)"
   ]
  },
  {
   "cell_type": "code",
   "execution_count": 11,
   "metadata": {},
   "outputs": [
    {
     "name": "stdout",
     "output_type": "stream",
     "text": [
      "True\n",
      "['', 'DEEGB', '', '', '', 'DEEGB', ''] ['', '22T1', '', '', '', '22T1', ''] ['', 'MT', '', '', '', 'MT', '']\n"
     ]
    }
   ],
   "source": [
    "dict2 = {'MSDU2319070': ['DEEGB', '22T1', 'MT', 'DG'], 'TRHU1290156': ['DEEGB', '22T1', 'MT', 'DG'], 'MEDU2743841': ['DEEGH', '22G1', 'LA', '']}\n",
    "list2 = ['MSCU3403789', 'MSDU2319070', 'GESU1329778', 'TTNU1531165', 'TTNU3935438', 'TRHU1290156', 'SDFGTR']\n",
    "\n",
    "list3 = []\n",
    "list4 = []\n",
    "list5 = []\n",
    "\n",
    "print(list2[1] in dict2.keys())\n",
    "\n",
    "for i, str in enumerate(list2):\n",
    "    if str in dict2.keys():\n",
    "        list3.append(dict2[str][0])\n",
    "        list4.append(dict2[str][1])\n",
    "        list5.append(dict2[str][2])\n",
    "        \n",
    "    else:\n",
    "        list3.append('')\n",
    "        list4.append('')\n",
    "        list5.append('')\n",
    "\n",
    "print(list3, list4, list5)"
   ]
  },
  {
   "cell_type": "code",
   "execution_count": 60,
   "metadata": {},
   "outputs": [],
   "source": [
    "import xlwings as xw\n",
    "import pandas as pd\n",
    "\n",
    "with xw.App(visible=False) as app:\n",
    "    wb = app.books.open(r'C:/Users/SWV224/BOLLORE/XPF - Documents/SERVICES/SFX/.3 Mar 2022/2212XA XPMLN 22011 FITOR 21.03.2022/ELL_XPMLN_22011_FITOR_220322_FINAL.xlsx')\n",
    "    sheet = wb.sheets('Cargo Detail')\n",
    "    last_row = sheet.range('A' + str(sheet.cells.last_cell.row)).end('up').row\n",
    "    rng_cargo_detail = sheet.range('A5:BF' + str(last_row))\n",
    "    df = sheet.range(rng_cargo_detail).options(pd.DataFrame, index=False, header=True).value\n",
    "    df = pd.DataFrame(df, index=None).copy()\n",
    "    wb.close()\n",
    "\n",
    "print(df)"
   ]
  },
  {
   "cell_type": "code",
   "execution_count": null,
   "metadata": {},
   "outputs": [],
   "source": []
  }
 ],
 "metadata": {
  "interpreter": {
   "hash": "dfba822a0ef445a5722cc5f995354a2bca66c844a13293b14a431f9b08cbd6fa"
  },
  "kernelspec": {
   "display_name": "Python 3.9.7 ('py39')",
   "language": "python",
   "name": "python3"
  },
  "language_info": {
   "codemirror_mode": {
    "name": "ipython",
    "version": 3
   },
   "file_extension": ".py",
   "mimetype": "text/x-python",
   "name": "python",
   "nbconvert_exporter": "python",
   "pygments_lexer": "ipython3",
   "version": "3.10.0"
  },
  "orig_nbformat": 4
 },
 "nbformat": 4,
 "nbformat_minor": 2
}
