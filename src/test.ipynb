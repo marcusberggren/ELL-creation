{
 "cells": [
  {
   "cell_type": "code",
   "execution_count": 15,
   "metadata": {},
   "outputs": [],
   "source": [
    "import xlwings as xw\n",
    "import pandas as pd\n",
    "from pathlib import Path"
   ]
  },
  {
   "cell_type": "code",
   "execution_count": null,
   "metadata": {},
   "outputs": [],
   "source": [
    "wb = xw.Book(r'C:\\Users\\SWV224\\BOLLORE\\XPF - Documents\\0109_Bokningsblad_TEST.xlsb')\n",
    "sheet = wb.sheets('INFO')\n",
    "data_table = sheet.range('A4').expand()\n",
    "df = sheet.range(data_table).options(pd.DataFrame, index=False, header=True).value"
   ]
  },
  {
   "cell_type": "code",
   "execution_count": null,
   "metadata": {},
   "outputs": [],
   "source": [
    "df = pd.DataFrame(df)\n",
    "df = df.groupby('MLO').size().iteritems()"
   ]
  },
  {
   "cell_type": "code",
   "execution_count": null,
   "metadata": {},
   "outputs": [],
   "source": [
    "for i in df:\n",
    "    print(i)"
   ]
  },
  {
   "cell_type": "code",
   "execution_count": 3,
   "metadata": {},
   "outputs": [],
   "source": [
    "df = pd.DataFrame({'MLO': ['ONE', 'HL', 'HSL', 'HSL', 'MSK', 'ONE', 'ONE'], 'BOOKING NUMBER': ['ASDF123', 'FGH345', 'GHJ567', 'GHJ567', 'YUI5678', 'ASDF124', 'ASDF124']})"
   ]
  },
  {
   "cell_type": "code",
   "execution_count": 4,
   "metadata": {},
   "outputs": [
    {
     "name": "stdout",
     "output_type": "stream",
     "text": [
      "   MLO BOOKING NUMBER\n",
      "0  ONE        ASDF123\n",
      "1   HL         FGH345\n",
      "2  HSL         GHJ567\n",
      "3  HSL         GHJ567\n",
      "4  MSK        YUI5678\n",
      "5  ONE        ASDF124\n",
      "6  ONE        ASDF124\n"
     ]
    }
   ],
   "source": [
    "print(df)"
   ]
  },
  {
   "cell_type": "code",
   "execution_count": 14,
   "metadata": {},
   "outputs": [
    {
     "name": "stdout",
     "output_type": "stream",
     "text": [
      "  MLO BOOKING NUMBER\n",
      "1  HL         FGH345\n",
      "   MLO BOOKING NUMBER\n",
      "2  HSL         GHJ567\n",
      "3  HSL         GHJ567\n",
      "   MLO BOOKING NUMBER\n",
      "4  MSK        YUI5678\n",
      "   MLO BOOKING NUMBER\n",
      "0  ONE        ASDF123\n",
      "5  ONE        ASDF124\n",
      "6  ONE        ASDF124\n"
     ]
    }
   ],
   "source": [
    "test_group = df.groupby('MLO')\n",
    "\n",
    "home = Path.home()\n",
    "\n",
    "for name, group in test_group:\n",
    "    group.to_excel(home + '\\OneDrive - BOLLORE\\Skrivbordet\\PRE_EXPORT_' + name + '_TEST.xlsx')"
   ]
  },
  {
   "cell_type": "code",
   "execution_count": 16,
   "metadata": {},
   "outputs": [
    {
     "name": "stdout",
     "output_type": "stream",
     "text": [
      "C:\\Users\\SWV224\n"
     ]
    }
   ],
   "source": [
    "print(Path.home())\n"
   ]
  },
  {
   "cell_type": "code",
   "execution_count": null,
   "metadata": {},
   "outputs": [],
   "source": []
  }
 ],
 "metadata": {
  "interpreter": {
   "hash": "dfba822a0ef445a5722cc5f995354a2bca66c844a13293b14a431f9b08cbd6fa"
  },
  "kernelspec": {
   "display_name": "Python 3.9.7 ('py39')",
   "language": "python",
   "name": "python3"
  },
  "language_info": {
   "codemirror_mode": {
    "name": "ipython",
    "version": 3
   },
   "file_extension": ".py",
   "mimetype": "text/x-python",
   "name": "python",
   "nbconvert_exporter": "python",
   "pygments_lexer": "ipython3",
   "version": "3.9.7"
  },
  "orig_nbformat": 4
 },
 "nbformat": 4,
 "nbformat_minor": 2
}
