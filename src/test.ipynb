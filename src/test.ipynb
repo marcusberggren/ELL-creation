{
 "cells": [
  {
   "cell_type": "code",
   "execution_count": 15,
   "metadata": {},
   "outputs": [],
   "source": [
    "import xlwings as xw\n",
    "import pandas as pd\n",
    "from pathlib import Path\n",
    "import numpy as np"
   ]
  },
  {
   "cell_type": "code",
   "execution_count": null,
   "metadata": {},
   "outputs": [],
   "source": [
    "wb = xw.Book(r'C:\\Users\\SWV224\\BOLLORE\\XPF - Documents\\0109_Bokningsblad_TEST2.xlsb')\n",
    "sheet = wb.sheets('INFO')\n",
    "data_table = sheet.range('A4').expand()\n",
    "df = sheet.range(data_table).options(pd.DataFrame, index=False, header=True).value"
   ]
  },
  {
   "cell_type": "code",
   "execution_count": null,
   "metadata": {},
   "outputs": [],
   "source": [
    "df = pd.DataFrame(df)\n",
    "df = df.groupby('MLO').size().iteritems()"
   ]
  },
  {
   "cell_type": "code",
   "execution_count": null,
   "metadata": {},
   "outputs": [],
   "source": [
    "for i in df:\n",
    "    print(i)"
   ]
  },
  {
   "cell_type": "code",
   "execution_count": null,
   "metadata": {},
   "outputs": [],
   "source": [
    "df = pd.DataFrame({'MLO': ['ONE', 'HL', 'HSL', 'HSL', 'MSK', 'ONE', 'ONE'], 'BOOKING NUMBER': ['ASDF123', 'FGH345', 'GHJ567', 'GHJ567', 'YUI5678', 'ASDF124', 'ASDF124']})"
   ]
  },
  {
   "cell_type": "code",
   "execution_count": null,
   "metadata": {},
   "outputs": [],
   "source": [
    "print(df)"
   ]
  },
  {
   "cell_type": "code",
   "execution_count": null,
   "metadata": {},
   "outputs": [],
   "source": [
    "test_group = df.groupby('MLO')\n",
    "\n",
    "home = Path.home()\n",
    "file = r'C:\\Users\\SWV224\\BOLLORE\\XPF - Documents\\MAINTENANCE\\templates\\template-pre-export.xlsx'\n",
    "\n",
    "for name, group in test_group:\n",
    "    with xw.App(visible=False) as app:\n",
    "        wb = app.books.open(file)\n",
    "        sheet = wb.sheets['INFO']\n",
    "        sheet.range('A5').options(pd.DataFrame, index=False, header=False).value = group\n",
    "        wb.save(str(home) + r'\\OneDrive - BOLLORE\\Skrivbordet\\PRE_EXPORT_' + name + '_TEST.xlsx')\n",
    "\n",
    "\n"
   ]
  },
  {
   "cell_type": "code",
   "execution_count": null,
   "metadata": {},
   "outputs": [],
   "source": [
    "print(Path.home())\n"
   ]
  },
  {
   "cell_type": "code",
   "execution_count": null,
   "metadata": {},
   "outputs": [],
   "source": [
    "def container_dummy(container: str):\n",
    "    container_num = 1\n",
    "    dummy = \"DUMY\"\n",
    "\n",
    "    if container != None:\n",
    "        return None\n",
    "    else:\n",
    "        for \n",
    "\n",
    "    "
   ]
  },
  {
   "cell_type": "code",
   "execution_count": null,
   "metadata": {},
   "outputs": [],
   "source": [
    "np.arange(10)"
   ]
  },
  {
   "cell_type": "code",
   "execution_count": null,
   "metadata": {},
   "outputs": [],
   "source": [
    "print(\"DUMY\" + '000000')"
   ]
  },
  {
   "cell_type": "code",
   "execution_count": null,
   "metadata": {},
   "outputs": [],
   "source": [
    "df['CONTAINER']"
   ]
  },
  {
   "cell_type": "code",
   "execution_count": null,
   "metadata": {},
   "outputs": [],
   "source": [
    "def test_increment():\n",
    "    num_empty_rows = df['CONTAINER'].isnull().sum()\n",
    "    number_list = np.arange(num_empty_rows)\n",
    "    \n",
    "    \n",
    "\n",
    "    pass"
   ]
  },
  {
   "cell_type": "code",
   "execution_count": null,
   "metadata": {},
   "outputs": [],
   "source": [
    "\n",
    "num_empty_rows = df['CONTAINER'].isnull().sum()\n",
    "num_as_text_in_list = np.arange(num_empty_rows).astype(str)\n",
    "list_filled_with_zeros = [\"DUMY\" + numbers.zfill(7) for numbers in num_as_text_in_list]\n",
    "df.loc[df['CONTAINER'].isnull(), 'CONTAINER'] = list_filled_with_zeros\n",
    "\n",
    "print(df['CONTAINER'])\n",
    "\n",
    "\n"
   ]
  },
  {
   "cell_type": "code",
   "execution_count": null,
   "metadata": {},
   "outputs": [],
   "source": [
    "text = '10'\n",
    "text.zfill(7)"
   ]
  },
  {
   "cell_type": "code",
   "execution_count": null,
   "metadata": {},
   "outputs": [],
   "source": [
    "test"
   ]
  },
  {
   "cell_type": "code",
   "execution_count": null,
   "metadata": {},
   "outputs": [],
   "source": [
    "lower_row = sheet.range('A' + str(sheet.cells.last_cell.row)).end('up').row\n",
    "\n",
    "for row in range(lower_row, 1, -1):\n",
    "    if sheet.range('A' + str(row)).value == None:\n",
    "        next\n",
    "    elif row == 5:\n",
    "        row = 5\n",
    "        break\n",
    "    else:\n",
    "        row\n",
    "        break\n",
    "\n",
    "print(row)"
   ]
  },
  {
   "cell_type": "code",
   "execution_count": null,
   "metadata": {},
   "outputs": [],
   "source": [
    "xw.main.Table.totals_row_range"
   ]
  },
  {
   "cell_type": "code",
   "execution_count": null,
   "metadata": {},
   "outputs": [],
   "source": [
    "used_range_rows = (sheet.api.UsedRange.Row, sheet.api.UsedRange.Row + sheet.api.UsedRange.Rows.Count)\n",
    "\n",
    "used_range_cols = (sheet.api.UsedRange.Column, sheet.api.UsedRange.Column + sheet.api.UsedRange.Columns.Count)\n",
    "\n",
    "used_range = xw.Range(*zip(used_range_rows, used_range_cols))"
   ]
  },
  {
   "cell_type": "code",
   "execution_count": null,
   "metadata": {},
   "outputs": [],
   "source": [
    "print(used_range_rows)"
   ]
  },
  {
   "cell_type": "code",
   "execution_count": 45,
   "metadata": {},
   "outputs": [],
   "source": [
    "wb = xw.Book(r'C:\\Users\\SWV224\\BOLLORE\\XPF - Documents\\0109_Bokningsblad_TEST2.xlsb')\n",
    "sheet = wb.sheets('INFO')\n"
   ]
  },
  {
   "cell_type": "code",
   "execution_count": 17,
   "metadata": {},
   "outputs": [],
   "source": [
    "last_row = sheet.api.UsedRange.Row + sheet.api.UsedRange.Rows.Count -1"
   ]
  },
  {
   "cell_type": "code",
   "execution_count": 59,
   "metadata": {},
   "outputs": [],
   "source": [
    "# XlFormatCondition Type\n",
    "xlCellValue = 1\n",
    "xlExpression = 2\n",
    "xlColorScale = 3\n",
    "xlDataBar = 4\n",
    "xlTop10 = 5\n",
    "xlIconSet = 6\n",
    "xlUniqueValues = 8\n",
    "xlTextString = 9\n",
    "xlBlanksCondition = 10\n",
    "xlTimePeriod = 11\n",
    "xlAboveAverageCondition = 12\n",
    "xlNoBlanksCondition = 13\n",
    "xlErrorsCondition = 16\n",
    "xlNoErrorsCondition = 17\n",
    "\n",
    "# XlFormatConditionOperator\n",
    "xlBetween = 1\n",
    "xlNotBetween = 2\n",
    "xlEqual = 3\n",
    "xlNotEqual = 4\n",
    "xlGreater = 5\n",
    "xlLess = 6\n",
    "xlGreaterEqual = 7\n",
    "xlLessEqual = 8\n",
    "xlDuplicate = 1\n",
    "xlUnique = 0"
   ]
  },
  {
   "cell_type": "code",
   "execution_count": 60,
   "metadata": {},
   "outputs": [],
   "source": [
    "mlo = sheet.api.Range('INFO[MLO]')\n",
    "pol = sheet.api.Range('INFO[POL]')\n",
    "tol = sheet.api.Range('INFO[TOL]')\n",
    "container = sheet.api.Range('INFO[CONTAINER]')\n",
    "iso_type = sheet.api.Range('INFO[ISO TYPE]')\n",
    "load_status = sheet.api.Range('INFO[LOAD STATUS]')\n",
    "imdg = sheet.api.Range('INFO[IMDG]')\n",
    "unnr = sheet.api.Range('INFO[UNNR]')\n",
    "temp = sheet.api.Range('INFO[TEMP]')\n",
    "po_number = sheet.api.Range('INFO[PO NUMBER]')\n",
    "customs_status = sheet.api.Range('INFO[CUSTOMS STATUS]')\n",
    "ocean_vessel = sheet.api.Range('INFO[OCEAN VESSEL]')\n",
    "final_pod = sheet.api.Range('INFO[FINAL POD]')\n",
    "info_table = sheet.api.Range('INFO')"
   ]
  },
  {
   "cell_type": "code",
   "execution_count": 40,
   "metadata": {},
   "outputs": [],
   "source": [
    "def rgb_to_hex(rgb):\n",
    "    bgr = (rgb[2], rgb[1], rgb[0])\n",
    "    strValue = '%02x%02x%02x' % bgr\n",
    "    #print(strValue)\n",
    "    iValue = int(strValue, 16)\n",
    "    return iValue"
   ]
  },
  {
   "cell_type": "code",
   "execution_count": 31,
   "metadata": {},
   "outputs": [
    {
     "data": {
      "text/plain": [
       "65535"
      ]
     },
     "execution_count": 31,
     "metadata": {},
     "output_type": "execute_result"
    }
   ],
   "source": [
    "rgb_to_hex((255, 255, 0))"
   ]
  },
  {
   "cell_type": "code",
   "execution_count": 56,
   "metadata": {},
   "outputs": [
    {
     "data": {
      "text/plain": [
       "<xlwings._xlwindows.COMRetryMethodWrapper at 0x2799330cc40>"
      ]
     },
     "execution_count": 56,
     "metadata": {},
     "output_type": "execute_result"
    }
   ],
   "source": [
    "info_table.FormatConditions.Delete"
   ]
  },
  {
   "cell_type": "code",
   "execution_count": 75,
   "metadata": {},
   "outputs": [],
   "source": [
    "yellow = (255, 255, 0)\n",
    "reddish = (255, 50, 0)\n",
    "pinkish = (255, 120, 150)\n",
    "red_font = (160, 50, 73)\n",
    "red = (255, 0 , 0)\n",
    "\n",
    "#MLO\n",
    "mlo.FormatConditions.Add(xlExpression, Formula1=\"=DATA!$A5=FALSE\")\n",
    "mlo.FormatConditions(1).Interior.Color=rgb_to_hex(yellow)\n",
    "mlo.FormatConditions(1).Font.Color=rgb_to_hex(reddish)\n",
    "\n",
    "#POL\n",
    "pol.FormatConditions.Add(xlExpression, Formula1=\"=DATA!$B5=FALSE\")\n",
    "pol.FormatConditions(1).Interior.Color=rgb_to_hex(yellow)\n",
    "pol.FormatConditions(1).Font.Color=rgb_to_hex(reddish)\n",
    "\n",
    "#TOL\n",
    "tol.FormatConditions.Add(xlExpression, Formula1=\"=DATA!$B5=FALSE\")\n",
    "tol.FormatConditions(1).Interior.Color=rgb_to_hex(yellow)\n",
    "tol.FormatConditions(1).Font.Color=rgb_to_hex(reddish)\n",
    "\n",
    "#CONTAINER\n",
    "container.FormatConditions.Add(xlExpression, Formula1=\"=DATA!$C5=FALSE\")\n",
    "container.FormatConditions(1).Interior.Color=rgb_to_hex(yellow)\n",
    "container.FormatConditions(1).Font.Color=rgb_to_hex(reddish)\n",
    "\n",
    "container_format2 = container.FormatConditions(2).AddUniqueValues\n",
    "container_format2.DupeUnique = xlDuplicate\n",
    "container.FormatConditions(2).Interior.Color=rgb_to_hex(pinkish)\n",
    "container.FormatConditions(2).Font.Color=rgb_to_hex(red_font)\n",
    "\n",
    "#ISO TYPE\n",
    "iso_type.FormatConditions.Add(xlExpression, Formula1=\"=DATA!$D5=FALSE\")\n",
    "iso_type.FormatConditions(1).Interior.Color=rgb_to_hex(yellow)\n",
    "iso_type.FormatConditions(1).Font.Color=rgb_to_hex(reddish)\n",
    "\n",
    "#LOAD STATUS\n",
    "load_status.FormatConditions.Add(xlExpression, Formula1=\"=DATA!$E5=FALSE\")\n",
    "load_status.FormatConditions(1).Interior.Color=rgb_to_hex(yellow)\n",
    "load_status.FormatConditions(1).Font.Color=rgb_to_hex(reddish)\n",
    "\n",
    "#IMDG\n",
    "imdg.FormatConditions.Add(xlExpression, Formula1=\"=DATA!$F5=FALSE\")\n",
    "imdg.FormatConditions(1).Interior.Color=rgb_to_hex(yellow)\n",
    "imdg.FormatConditions(1).Font.Color=rgb_to_hex(reddish)\n",
    "\n",
    "#UNNR\n",
    "unnr.FormatConditions.Add(xlExpression, Formula1=\"=DATA!$F5=FALSE\")\n",
    "unnr.FormatConditions(1).Interior.Color=rgb_to_hex(yellow)\n",
    "unnr.FormatConditions(1).Font.Color=rgb_to_hex(reddish)\n",
    "\n",
    "#TEMP\n",
    "temp.FormatConditions.Add(xlExpression, Formula1=\"=DATA!$G5=FALSE\")\n",
    "temp.FormatConditions(1).Interior.Color=rgb_to_hex(yellow)\n",
    "temp.FormatConditions(1).Font.Color=rgb_to_hex(reddish)\n",
    "\n",
    "#PO NUMBER\n",
    "po_number.FormatConditions.Add(xlExpression, Formula1=\"=DATA!$H5=FALSE\")\n",
    "po_number.FormatConditions(1).Interior.Color=rgb_to_hex(yellow)\n",
    "po_number.FormatConditions(1).Font.Color=rgb_to_hex(reddish)\n",
    "\n",
    "#CUSTOMS STATUS\n",
    "customs_status.FormatConditions.Add(xlExpression, Formula1=\"=S5<>DATA!$I5\")\n",
    "customs_status.FormatConditions(1).Interior.Color=rgb_to_hex(yellow)\n",
    "customs_status.FormatConditions(1).Font.Color=rgb_to_hex(reddish)\n",
    "\n",
    "#OCEAN VESSEL\n",
    "ocean_vessel.FormatConditions.Add(xlExpression, Formula1=\"=DATA!$J5=FALSE\")\n",
    "ocean_vessel.FormatConditions(1).Interior.Color=rgb_to_hex(yellow)\n",
    "ocean_vessel.FormatConditions(1).Font.Color=rgb_to_hex(reddish)\n",
    "\n",
    "#FINAL POD\n",
    "final_pod.FormatConditions.Add(xlExpression, Formula1=\"=DATA!$K5=FALSE\")\n",
    "final_pod.FormatConditions(1).Interior.Color=rgb_to_hex(yellow)\n",
    "final_pod.FormatConditions(1).Font.Color=rgb_to_hex(reddish)\n",
    "\n",
    "\n",
    "\n"
   ]
  },
  {
   "cell_type": "code",
   "execution_count": null,
   "metadata": {},
   "outputs": [],
   "source": []
  }
 ],
 "metadata": {
  "interpreter": {
   "hash": "dfba822a0ef445a5722cc5f995354a2bca66c844a13293b14a431f9b08cbd6fa"
  },
  "kernelspec": {
   "display_name": "Python 3.9.7 ('py39')",
   "language": "python",
   "name": "python3"
  },
  "language_info": {
   "codemirror_mode": {
    "name": "ipython",
    "version": 3
   },
   "file_extension": ".py",
   "mimetype": "text/x-python",
   "name": "python",
   "nbconvert_exporter": "python",
   "pygments_lexer": "ipython3",
   "version": "3.9.7"
  },
  "orig_nbformat": 4
 },
 "nbformat": 4,
 "nbformat_minor": 2
}
